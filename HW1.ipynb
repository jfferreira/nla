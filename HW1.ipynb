{
 "cells": [
  {
   "cell_type": "markdown",
   "metadata": {},
   "source": [
    "**Numerical Linear Algebra for Financial Engineering**\n",
    "\n",
    "**Homework 1**\n",
    "\n",
    "**Jose Ferreira**\n",
    "\n",
    "----------------\n",
    "**(1) Find the value of $x$ such that the matrix below has rank 3:**\n",
    "$$\n",
    "   \\begin{pmatrix} \n",
    "      x & 1 & 1 & 1 \\\\ \n",
    "      1 & x & 1 & 1 \\\\ \n",
    "      1 & 1 & x & 1 \\\\\n",
    "      1 & 1 & 1 & x \n",
    "   \\end{pmatrix}\n",
    "$$"
   ]
  },
  {
   "cell_type": "markdown",
   "metadata": {},
   "source": [
    "Let M be the matrix above. Calculate the determinant of M by applying row reducing operations until the matrix is upper triangular. \n",
    "For the rank to be 3 (or less), the determinant needs to be equal to zero.\n",
    "$$\n",
    "\\begin{align}\n",
    "det(M)=&\n",
    "   -\\begin{vmatrix} \n",
    "      1 & x & 1 & 1 \\\\ \n",
    "      x & 1 & 1 & 1 \\\\ \n",
    "      1 & 1 & x & 1 \\\\\n",
    "      1 & 1 & 1 & x \n",
    "   \\end{vmatrix} &[swap(r1,r2)]\\\\ \n",
    "=&\n",
    "   -\\begin{vmatrix} \n",
    "      1 & x & 1 & 1 \\\\ \n",
    "      0 & 1-x^2 & 1-x & 1-x \\\\ \n",
    "      1 & 1 & x & 1 \\\\\n",
    "      1 & 1 & 1 & x \n",
    "   \\end{vmatrix} &[r2 = r2 - x*r1]\\\\\n",
    "=&\n",
    "   -\\begin{vmatrix} \n",
    "      1 & x & 1 & 1 \\\\ \n",
    "      0 & 1-x^2 & 1-x & 1-x \\\\ \n",
    "      0 & 1-x & x-1 & 0 \\\\\n",
    "      1 & 1 & 1 & x \n",
    "   \\end{vmatrix} &[r3 = r3 - r1]\\\\\n",
    "=&\n",
    "   -\\begin{vmatrix} \n",
    "      1 & x & 1 & 1 \\\\ \n",
    "      0 & 1-x^2 & 1-x & 1-x \\\\ \n",
    "      0 & 1-x & x-1 & 0 \\\\\n",
    "      0 & 1-x & 0 & x-1 \n",
    "   \\end{vmatrix} &[r4 = r4 - r1]\\\\\n",
    "=&\n",
    "   -\\begin{vmatrix} \n",
    "      1 & x & 1 & 1 \\\\ \n",
    "      0 & 1-x^2 & 1-x & 1-x \\\\ \n",
    "      0 & 0 & \\frac{(x-1)(2+x)}{1+x} & \\frac{x-1}{1+x} \\\\\n",
    "      0 & 1-x & 0 & x-1 \n",
    "   \\end{vmatrix} &[r3 = r3 -\\frac{1-x}{1-x^2}*r2]\\\\   \n",
    "=&\n",
    "   -\\begin{vmatrix} \n",
    "      1 & x & 1 & 1 \\\\ \n",
    "      0 & 1-x^2 & 1-x & 1-x \\\\ \n",
    "      0 & 0 & \\frac{(x-1)(2+x)}{1+x} & \\frac{x-1}{1+x} \\\\\n",
    "      0 & 0 & \\frac{x-1}{1+x} & \\frac{(x-1)(2+x)}{1+x} \n",
    "   \\end{vmatrix} &[r4 = r4 -\\frac{1-x}{1-x^2}*r2]\\\\   \n",
    "=&\n",
    "   -\\begin{vmatrix} \n",
    "      1 & x & 1 & 1 \\\\ \n",
    "      0 & 1-x^2 & 1-x & 1-x \\\\ \n",
    "      0 & 0 & \\frac{(x-1)(2+x)}{1+x} & \\frac{x-1}{1+x} \\\\\n",
    "      0 & 0 & 0 & \\frac{(x-1)(3+x)}{2+x} \n",
    "   \\end{vmatrix} &[r4 = r4 -\\frac{1}{2+x}*r3]\\\\      \n",
    "=& -\\frac{(1-x^2)(x-1)(2+x)(x-1)(3+x)}{(1+x)(2+x)}\\\\\n",
    "=& (x-1)^3(3+x)\n",
    "\\end{align}\n",
    "$$"
   ]
  },
  {
   "cell_type": "markdown",
   "metadata": {},
   "source": [
    "Therefore, in order for the matrix to have a rank of 3 or less, $x$ must be $1$  or $-3$. If $x = 1$, the matrix is composed of only ones and its rank would be $1$. If $x = -3$:"
   ]
  },
  {
   "cell_type": "markdown",
   "metadata": {},
   "source": [
    "$$\n",
    "\\begin{align}\n",
    "M=&   \\begin{pmatrix} \n",
    "      -3 & 1 & 1 & 1 \\\\ \n",
    "      1 & -3 & 1 & 1 \\\\ \n",
    "      1 & 1 & -3 & 1 \\\\\n",
    "      1 & 1 & 1 & -3 \n",
    "   \\end{pmatrix}\\\\\n",
    "=&\n",
    "   \\begin{pmatrix} \n",
    "      1 & -3 & 1 & 1 \\\\ \n",
    "      -3 & 1 & 1 & 1 \\\\ \n",
    "      1 & 1 & -3 & 1 \\\\\n",
    "      1 & 1 & 1 & -3 \n",
    "   \\end{pmatrix} &[swap(r1,r2)]\\\\ \n",
    "=&\n",
    "   \\begin{pmatrix} \n",
    "      1 & -3 & 1 & 1 \\\\ \n",
    "      0 & -8 & 4 & 4 \\\\ \n",
    "      1 & 1 & -3 & 1 \\\\\n",
    "      1 & 1 & 1 & -3 \n",
    "   \\end{pmatrix} &[r2=r2+3r1]\\\\ \n",
    "=&\n",
    "   \\begin{pmatrix} \n",
    "      1 & -3 & 1 & 1 \\\\ \n",
    "      0 & -8 & 4 & 4 \\\\ \n",
    "      0 & 4 & -4 & 0 \\\\\n",
    "      1 & 1 & 1 & -3 \n",
    "   \\end{pmatrix} &[r3=r3-r1]\\\\ \n",
    "=&\n",
    "   \\begin{pmatrix} \n",
    "      1 & -3 & 1 & 1 \\\\ \n",
    "      0 & -8 & 4 & 4 \\\\ \n",
    "      0 & 4 & -4 & 0 \\\\\n",
    "      0 & 4 & 0 & -4 \n",
    "   \\end{pmatrix} &[r4=r4-r1]\\\\ \n",
    "=&\n",
    "   \\begin{pmatrix} \n",
    "      1 & -3 & 1 & 1 \\\\ \n",
    "      0 & -8 & 4 & 4 \\\\ \n",
    "      0 & 0 & -2 & 2 \\\\\n",
    "      0 & 4 & 0 & -4 \n",
    "   \\end{pmatrix} &[r3=r3+\\frac{1}{2}r2]\\\\\n",
    "=&\n",
    "   \\begin{pmatrix} \n",
    "      1 & -3 & 1 & 1 \\\\ \n",
    "      0 & -8 & 4 & 4 \\\\ \n",
    "      0 & 0 & -2 & 2 \\\\\n",
    "      0 & 0 & 2 & -2 \n",
    "   \\end{pmatrix} &[r4=r4+\\frac{1}{2}r2]\\\\   \n",
    "=&\n",
    "   \\begin{pmatrix} \n",
    "      1 & -3 & 1 & 1 \\\\ \n",
    "      0 & -8 & 4 & 4 \\\\ \n",
    "      0 & 0 & -2 & 2 \\\\\n",
    "      0 & 0 & 0 & 0 \n",
    "   \\end{pmatrix} &[r4=r4+r3]\\\\   \n",
    "\\iff& rank(M) = 3 \n",
    "\\end{align}\n",
    "$$"
   ]
  },
  {
   "cell_type": "markdown",
   "metadata": {},
   "source": [
    "-------------\n",
    "**(2) Show that the product of two symmetric matrices is not necessarily a symmetric matrix.\n",
    "Hint: Find 2x2 matrices $A$ and $B$ such that $A=A^t$, $B=B^t$, and $(AB)^t  \\neq AB$**"
   ]
  },
  {
   "cell_type": "markdown",
   "metadata": {},
   "source": [
    "By counterexample, let A and B be matrices of the form:\n",
    "    $$\n",
    "    A=\\begin{pmatrix} \n",
    "      a & a \\\\ \n",
    "      a & -a\n",
    "   \\end{pmatrix}\\\\\n",
    "   B=\\begin{pmatrix} \n",
    "      0 & a \\\\ \n",
    "      a & -a\n",
    "   \\end{pmatrix}\\\\\n",
    "    $$"
   ]
  },
  {
   "cell_type": "markdown",
   "metadata": {},
   "source": [
    "Both A and B are symmetric matrices but:\n",
    "$$\n",
    "AB=\\begin{pmatrix} \n",
    "      a^2 & 0 \\\\ \n",
    "      -a^2 & 2a^2\n",
    "   \\end{pmatrix}\\\\\n",
    "$$\n",
    "is not symmetric"
   ]
  },
  {
   "cell_type": "markdown",
   "metadata": {},
   "source": [
    "---------------\n",
    "**(3) Let $A$ be a square matrix of size n. Show that $AD=DA$ for any diagonal matrix D of size n if and only if $A$ is a diagonal matrix.**"
   ]
  },
  {
   "cell_type": "markdown",
   "metadata": {},
   "source": [
    "Let $D = diag(d_{k})_{k=1:n}$ and $A = col(a_{k})_{k=1:n}$, then $AD = col(a_{k}d_{k}) \\iff (AD)(j,k) = d_{k}A(j,k)$\n",
    "\n",
    "Also, if $A = row(r_{j})_{j=1:n}$, then $DA = row(d_{j}r_{j})_{j=1:n} \\iff (DA)(j,k) = d_{j}A(j,k)$\n",
    "\n",
    "Assuming all the diagonal entries in D are distinct: \n",
    "\n",
    "$$\n",
    "\\begin{align}\n",
    "AD = DA \n",
    "\\iff& d_{k}A(j,k) = d_{j}A(j,k)\\\\ \n",
    "\\iff& (d_{k} - d_{j})A(j,k) = 0, \\forall 1\\leq j \\neq k \\leq n\\\\\n",
    "\\iff& A(j,k) = 0, \\forall 1\\leq j \\neq k \\leq n\\\\\n",
    "\\iff& A = diag(a_{k})_{k=1:n}\n",
    "\\end{align}\n",
    "$$\n",
    "\n",
    "If the diagonal entries of D are not all distinct, some non-diagonal entries of A could be non-zero and the commutative property will also be preserved."
   ]
  },
  {
   "cell_type": "markdown",
   "metadata": {},
   "source": [
    "-------------\n",
    "**(4) Let $M_1$, $M_2$, $M_3$ and $M_4$ be square matrices of the same size such that $M_1M_2M_3M_4 = I$.\n",
    "Show that\n",
    "$$M_1M_2M_3M_4 = M_2M_3M_4M_1 = M_3M_4M_1M_2 = M_4M_1M_2M_3 = I$$**"
   ]
  },
  {
   "cell_type": "markdown",
   "metadata": {},
   "source": [
    "$$\n",
    "\\begin{align}\n",
    "M_1M_2M_3M_4 = I \\implies& M_1(M_2M_3M_4) = I\\\\\n",
    "\\implies& (M_2M_3M_4) = M_1^{-1}\\\\\n",
    "\\implies& (M_2M_3M_4)M_1 = M_2M_3M_4M_1 = M_1^{-1}M_1 = I\\\\\n",
    "\\end{align}\n",
    "$$\n",
    "\n",
    "$$\n",
    "\\begin{align}\n",
    "M_1M_2M_3M_4 = I \\implies& (M_1M_2)(M_3M_4) = I\\\\\n",
    "\\implies& (M_3M_4) = (M_1M_2)^{-1}\\\\\n",
    "\\implies& (M_3M_4)(M_1M_2) = M_3M_4M_1M_2 = (M_1M_2)^{-1}(M_1M_2) = I\\\\\n",
    "\\end{align}\n",
    "$$\n",
    "\n",
    "$$\n",
    "\\begin{align}\n",
    "M_1M_2M_3M_4 = I \\implies& (M_1M_2M_3)M_4 = I\\\\\n",
    "\\implies& M_4 = (M_1M_2M_3)^{-1}\\\\\n",
    "\\implies& (M_4)(M_1M_2M_3) = M_4M_1M_2M_3 = (M_1M_2M_3)^{-1}(M_1M_2M_3) = I\\\\\n",
    "\\end{align}\n",
    "$$"
   ]
  },
  {
   "cell_type": "markdown",
   "metadata": {},
   "source": [
    "---------\n",
    "**(5) If A is a nonsingular matrix, show that\n",
    "$$(I+A)^{-1} = I - (I+A^{-1})^{-1}$$**"
   ]
  },
  {
   "cell_type": "markdown",
   "metadata": {},
   "source": [
    "$$\n",
    "\\begin{align}\n",
    "(I+A)^{-1} = I - (I+A^{-1})^{-1}\\\\ \n",
    "\\implies& (I - (I+A^{-1})^{-1})(I+A) = I &\\text{[def. inverse matrix]}\\\\\n",
    "\\implies& I - (I+A^{-1})^{-1} + A - (I+A^{-1})^{-1}A = I &\\text{[distributive property]}\\\\\n",
    "\\implies& I - A[(I+A^{-1})^{-1}A^{-1} + I - (I+A^{-1})^{-1}] = I &\\text{[factor A]}\\\\\n",
    "\\implies& I - A[(I+A^{-1})^{-1}(I+A^{-1}) - I] = I &\\text{[factor } (I+A)^{-1} \\text{]} \\\\\n",
    "\\implies& I - A[I - I] = I &\\text{[simplify]} \\\\\n",
    "\\implies& I = I &\\text{[simplify]} \\\\\n",
    "\\implies& TRUE \\\\\n",
    "\\end{align}\n",
    "$$"
   ]
  },
  {
   "cell_type": "markdown",
   "metadata": {},
   "source": [
    "-------------\n",
    "**(6) Show that the $n \\times n$ matrix $A$ has rank 1 if and only if there exists an $n \\times 1$ nonzero vector $v$ such that $A=vv^t$** "
   ]
  },
  {
   "cell_type": "markdown",
   "metadata": {},
   "source": [
    "If $A=vv^t$, all rows are a linear combination of vector $v$ and, therefore, $rank(A) = 1$. Also, note that a vector has by definition a rank equal to 1, multiplying two vectors must result in a matrix of rank equal to 1. \n",
    "\n",
    "$$\n",
    "\\begin{align}\n",
    "A=vv^t =& (vv^t)(j,k) = v_{j}v^t_{k}, \\forall j =1:n, k=1:n\\\\\n",
    "\\implies& Ax = (v_{j}row(r_{j}))x, \\forall j =1:n\\\\\n",
    "\\implies& Ax = v_{j}(row(r_{j})x), \\forall j =1:n\\\\\n",
    "\\implies& \\text{All rows are linearly dependent}\\\\\n",
    "\\implies& rank(A) = 1\n",
    "\\end{align}\n",
    "$$\n",
    "\n",
    "If $rank(A) = 1$, there exists exactly one eigenvector $v$ such that $Av = \\lambda v$ and, assuming $v$ is a nonzero vector, the matrix can be expressed as $A = vv^t$ since any vector $w$ such that $A = vw^t$ (possible since rank(A) = 1) can be written as $w = \\lambda v$ if  $\\vert\\vert{v}\\vert\\vert=\\sqrt{\\lambda}$.      \n",
    "\n",
    "$$\n",
    "\\begin{align}\n",
    "rank(A) = 1\\\\\n",
    "\\implies& Au = kv, \\forall u \\in \\mathbb R^n \\\\\n",
    "\\implies& A = v(col(w_{k})), \\forall k =1:n\\\\\n",
    "\\implies& A = vw^t\\\\    \n",
    "\\implies& A = v_*(v_*^t), v_*=\\sqrt{\\lambda}v \\text{ since } Av = \\lambda v\\\\\n",
    "\\end{align}\n",
    "$$\n"
   ]
  },
  {
   "cell_type": "markdown",
   "metadata": {},
   "source": [
    "-------------\n",
    "**(7) Let $x$ and $y$ be column vectors of size $n$, and let $I$ be the identity matrix of size $n$. Show that the matrix $I - xy^t$ is nonsingular if and only if $y^tx \\neq 1$.**"
   ]
  },
  {
   "cell_type": "markdown",
   "metadata": {},
   "source": [
    "Let $A = (I-xy^t)$ and assume $y^tx \\neq 1$:\n",
    "\n",
    "$$\n",
    "\\begin{align}\n",
    "(I-xy^t)A^{-1} = I\\\\\n",
    "\\implies& A^{-1} - xy^tA^{-1} = I\\\\\n",
    "\\implies& y^tA^{-1} - y^txy^tA^{-1} = y^t &\\text{[multiply by $y^t$]}\\\\\n",
    "\\implies& (1 - y^tx)(y^tA^-1) = y^t\\\\\n",
    "\\implies& (1 - y^tx)(y^tA^-1) = y^t\\\\\n",
    "\\implies& A^-1 = I + \\frac{xy^t}{(1 - y^tx)}\\\\\n",
    "\\end{align}\n",
    "$$\n",
    "Since $y^tx \\neq 1$, the inverse of matrix A is well defined.  \n",
    "If $y^tx = 1$, the inverse does not exist.\n",
    "\n",
    "Furthermore, assuming $y^tx = 1$:\n",
    "$$\n",
    "\\begin{align}\n",
    "(I-xy^t)x =& x - xy^tx\\\\\n",
    "=& x - x(y^tx)\\\\\n",
    "=&0\\\\\n",
    "\\implies& \\text{The matrix is singular if $y^tx = 1$}\n",
    "\\end{align}\n",
    "$$\n",
    "\n",
    "Therefore, $I - xy^t$ is nonsingular $\\iff y^tx \\neq 1$  "
   ]
  },
  {
   "cell_type": "markdown",
   "metadata": {},
   "source": [
    "---------------\n",
    "**(8) The covariance matrix of five random variables is\n",
    "$$\n",
    "\\Sigma =\n",
    "\\begin{pmatrix} \n",
    "      1 & -0.525 & 1.375 & -0.075 & -0.75 \\\\ \n",
    "      -0.525 & 4 & 0.1875 & 0.1875 & -0.675 \\\\ \n",
    "      1.375 & 0.1875 & 12.25 & 0.4375 & -1.875 \\\\ \n",
    "      -0.075 & 0.1875 & 0.4375 & 6.25 & 0.3 \\\\ \n",
    "      -0.75 & -0.675 & -1.875 & 0.3 & 4.41\n",
    "   \\end{pmatrix}\\\\\n",
    "$$\n",
    "Find the correlation matrix of these random variables.** "
   ]
  },
  {
   "cell_type": "markdown",
   "metadata": {},
   "source": [
    "The correlation matrix $\\Omega$ is given by\n",
    "$$\\Omega = (D_{\\sigma})^{-1}\\Sigma(D_{\\sigma})^{-1}$$ \n",
    "where $D_{\\sigma}$ is the diagonal matrix with diagonal values equivalent to the standard deviations of each random variable $X_{i}$  \n",
    "In this case, \n",
    "$$\n",
    "\\begin{align}\n",
    "D_{\\sigma} =& \n",
    "\\begin{pmatrix} \n",
    "      \\sqrt{1} & 0 & 0 & 0 & 0 \\\\ \n",
    "      0 & \\sqrt{4} & 0 & 0 & 0 \\\\ \n",
    "      0 & 0 & \\sqrt{12.25} & 0 & 0 \\\\ \n",
    "      0 & 0 & 0 & \\sqrt{6.25} & 0 \\\\ \n",
    "      0 & 0 & 0 & 0 & \\sqrt{4.41}\n",
    "   \\end{pmatrix}\\\\\n",
    "=& \n",
    "\\begin{pmatrix} \n",
    "      1 & 0 & 0 & 0 & 0 \\\\ \n",
    "      0 & 2 & 0 & 0 & 0 \\\\ \n",
    "      0 & 0 & 3.5 & 0 & 0 \\\\ \n",
    "      0 & 0 & 0 & 2.5 & 0 \\\\ \n",
    "      0 & 0 & 0 & 0 & 2.1\n",
    "\\end{pmatrix}\\\\\n",
    "\\end{align}\n",
    "$$\n",
    "\n",
    "$$\n",
    "\\begin{align}\n",
    "(D_{\\sigma})^{-1} \n",
    "=& diag\\left(\\frac{1}{d_{k}}\\right)_{k=1:n}\\\\\n",
    "=& \n",
    "\\begin{pmatrix} \n",
    "      1 & 0 & 0 & 0 & 0 \\\\ \n",
    "      0 & \\frac{1}{2} & 0 & 0 & 0 \\\\ \n",
    "      0 & 0 & \\frac{2}{7} & 0 & 0 \\\\ \n",
    "      0 & 0 & 0 & \\frac{2}{5} & 0 \\\\ \n",
    "      0 & 0 & 0 & 0 & \\frac{10}{21}\n",
    "\\end{pmatrix}\\\\\n",
    "\\end{align}\n",
    "$$"
   ]
  },
  {
   "cell_type": "code",
   "execution_count": 88,
   "metadata": {},
   "outputs": [
    {
     "data": {
      "text/plain": [
       "5×5 Array{Float64,2}:\n",
       "  1.0       -0.2625      0.392857   -0.03       -0.357143 \n",
       " -0.2625     1.0         0.0267857   0.0375     -0.160714 \n",
       "  0.392857   0.0267857   1.0         0.05       -0.255102 \n",
       " -0.03       0.0375      0.05        1.0         0.0571429\n",
       " -0.357143  -0.160714   -0.255102    0.0571429   1.0      "
      ]
     },
     "execution_count": 88,
     "metadata": {},
     "output_type": "execute_result"
    }
   ],
   "source": [
    "sigma = [1 -0.525 1.375 -0.075 -0.75; \n",
    "         -0.525 4 0.1875 0.1875 -0.675;\n",
    "         1.375 0.1875 12.25 0.4375 -1.875;\n",
    "         -0.075 0.1875 0.4375 6.25 0.3;\n",
    "         -0.75 -0.675 -1.875 0.3 4.41]\n",
    "d_sigma_inverse = inv(Diagonal([sqrt(sigma[1,1]); \n",
    "                                sqrt(sigma[2,2]);\n",
    "                                sqrt(sigma[3,3]);\n",
    "                                sqrt(sigma[4,4]);\n",
    "                                sqrt(sigma[5,5])]))\n",
    "omega = d_sigma_inverse*sigma*d_sigma_inverse"
   ]
  },
  {
   "cell_type": "markdown",
   "metadata": {},
   "source": [
    "$$\n",
    "\\begin{align}\n",
    "\\Omega\n",
    "=& \n",
    "\\begin{pmatrix} \n",
    "1.0 & -0.2625 & 0.392857 & -0.03 & -0.357143 \\\\ \n",
    "-0.2625 & 1.0 & 0.0267857 & 0.0375 & -0.160714 \\\\\n",
    "0.392857 & 0.0267857 & 1.0 & 0.05 & -0.255102 \\\\\n",
    "-0.03 & 0.0375 & 0.05 & 1.0 & 0.0571429 \\\\\n",
    "-0.357143 & -0.160714 & -0.255102 & 0.0571429 & 1.0 \\end{pmatrix}\\\\\n",
    "\\end{align}\n",
    "$$\n"
   ]
  },
  {
   "cell_type": "markdown",
   "metadata": {},
   "source": [
    "----------\n",
    "**(9) The correlation matrix of five random variables is\n",
    "$$\n",
    "\\begin{align}\n",
    "\\Omega\n",
    "=& \n",
    "\\begin{pmatrix} \n",
    "1 & -0.25 & 0.15 & -0.05 & -0.3 \\\\ \n",
    "-0.25 & 1 & -0.1 & -0.25 & 0.1\\\\\n",
    "0.15 & -0.1 & 1 & 0.2 & 0.05 \\\\\n",
    "-0.05 & -0.25 & 0.2 & 1 & 0.1 \\\\\n",
    "-0.3 & 0.1 & 0.05 & 0.1 & 1   \n",
    "\\end{pmatrix}\\\\\n",
    "\\end{align}\n",
    "$$\n",
    "(i) Compute the covariance matrix of these random variables if their standard deviations are 0.1, 0.2, 0.5, 1 and 2, in this order.**"
   ]
  },
  {
   "cell_type": "markdown",
   "metadata": {},
   "source": [
    "The covariance matrix, $\\Sigma$ is given by the expression $$\\Sigma = D_{\\sigma}\\Omega D_{\\sigma}$$ where \n",
    "$$\n",
    "\\begin{align}\n",
    "D_{\\sigma} =& diag\\left(\\sigma_{k}\\right)_{k=1:n}\\\\\n",
    "=&\n",
    "\\begin{pmatrix} \n",
    "      0.1 & 0 & 0 & 0 & 0 \\\\ \n",
    "      0 & 0.2 & 0 & 0 & 0 \\\\ \n",
    "      0 & 0 & 0.5 & 0 & 0 \\\\ \n",
    "      0 & 0 & 0 & 1 & 0 \\\\ \n",
    "      0 & 0 & 0 & 0 & 2\n",
    "\\end{pmatrix}\\\\\n",
    "\\end{align}\n",
    "$$ \n"
   ]
  },
  {
   "cell_type": "code",
   "execution_count": 8,
   "metadata": {},
   "outputs": [
    {
     "data": {
      "text/plain": [
       "5×5 Array{Float64,2}:\n",
       "  0.01    -0.005   0.0075  -0.005  -0.06\n",
       " -0.005    0.04   -0.01    -0.05    0.04\n",
       "  0.0075  -0.01    0.25     0.1     0.05\n",
       " -0.005   -0.05    0.1      1.0     0.2 \n",
       " -0.06     0.04    0.05     0.2     4.0 "
      ]
     },
     "execution_count": 8,
     "metadata": {},
     "output_type": "execute_result"
    }
   ],
   "source": [
    "omega = [1 -0.25 0.15 -0.05 -0.3; \n",
    "         -0.25 1 -0.1 -0.25 0.1;\n",
    "         0.15 -0.1 1 0.2 0.05;\n",
    "         -0.05 -0.25 0.2 1 0.1;\n",
    "         -0.3 0.1 0.05 0.1 1]\n",
    "d_sigma = Diagonal([0.1; 0.2; 0.5; 1; 2])\n",
    "sigma = d_sigma*omega*d_sigma"
   ]
  },
  {
   "cell_type": "markdown",
   "metadata": {},
   "source": [
    "$$\n",
    "\\Sigma =\n",
    "\\begin{pmatrix} \n",
    "      0.01 & -0.005 & 0.0075 & -0.005 & -0.06 \\\\ \n",
    "      -0.005 & 0.04 & -0.01 & -0.05 & 0.04 \\\\ \n",
    "      0.0075 & -0.01 & 0.25 & 0.1 & 0.05 \\\\ \n",
    "      -0.005 & -0.05 & 0.1 & 1 & 0.2 \\\\ \n",
    "      -0.06 & 0.04 & 0.05 & 0.2 & 4\n",
    "   \\end{pmatrix}\\\\\n",
    "$$"
   ]
  },
  {
   "cell_type": "markdown",
   "metadata": {},
   "source": [
    "**(ii) Compute the covariance matrix of these random variables if their standard deviations are 2, 1, 0.5, 0.2, and 0.1, in this order.**"
   ]
  },
  {
   "cell_type": "code",
   "execution_count": 9,
   "metadata": {},
   "outputs": [
    {
     "data": {
      "text/plain": [
       "5×5 Array{Float64,2}:\n",
       "  4.0   -0.5    0.15    -0.02   -0.06  \n",
       " -0.5    1.0   -0.05    -0.05    0.01  \n",
       "  0.15  -0.05   0.25     0.02    0.0025\n",
       " -0.02  -0.05   0.02     0.04    0.002 \n",
       " -0.06   0.01   0.0025   0.002   0.01  "
      ]
     },
     "execution_count": 9,
     "metadata": {},
     "output_type": "execute_result"
    }
   ],
   "source": [
    "omega = [1 -0.25 0.15 -0.05 -0.3; \n",
    "         -0.25 1 -0.1 -0.25 0.1;\n",
    "         0.15 -0.1 1 0.2 0.05;\n",
    "         -0.05 -0.25 0.2 1 0.1;\n",
    "         -0.3 0.1 0.05 0.1 1]\n",
    "d_sigma = Diagonal([2; 1; 0.5; 0.2; 0.1])\n",
    "sigma = d_sigma*omega*d_sigma"
   ]
  },
  {
   "cell_type": "markdown",
   "metadata": {},
   "source": [
    "$$\n",
    "\\Sigma =\n",
    "\\begin{pmatrix} \n",
    "      4 & -0.5 & 0.15 & -0.02 & -0.06 \\\\ \n",
    "      -0.5 & 1 & -0.05 & -0.05 & 0.01 \\\\ \n",
    "      0.15 & -0.05 & 0.25 & 0.2 & 0.0025 \\\\ \n",
    "      -0.02 & -0.05 & 0.02 & 0.04 & 0.002 \\\\ \n",
    "      -0.06 & 0.01 & 0.0025 & 0.002 & 0.01\n",
    "   \\end{pmatrix}\\\\\n",
    "$$"
   ]
  },
  {
   "cell_type": "markdown",
   "metadata": {},
   "source": [
    "------------\n",
    "**(10) The file *indeces-close-jan3-jan31-2017.xslx* contains the January 3, 2017 - January 31, 2017 end of day values of Dow Jones, Nasdaq, and S&P 500.**\n",
    "\n",
    "**(i) Compute the log daily returns of the three indices over the given time period.** "
   ]
  },
  {
   "cell_type": "markdown",
   "metadata": {},
   "source": [
    "The log returns for each index are calculated as the difference between the natural logarithm of the (i+1)-th period and the i-th period."
   ]
  },
  {
   "cell_type": "code",
   "execution_count": 49,
   "metadata": {},
   "outputs": [],
   "source": [
    "using ExcelReaders\n",
    "using DataFrames\n",
    "\n",
    "df = readxlsheet(DataFrame, \"indeces-close-jan3-jan31-2017.xlsx\", \"201701_Indices\");"
   ]
  },
  {
   "cell_type": "code",
   "execution_count": 22,
   "metadata": {},
   "outputs": [
    {
     "data": {
      "text/plain": [
       "19-element DataArrays.DataArray{Float64,1}:\n",
       "  0.00303337 \n",
       " -0.00215209 \n",
       "  0.00323667 \n",
       " -0.00383527 \n",
       " -0.00160288 \n",
       "  0.0049611  \n",
       " -0.00317625 \n",
       " -0.000264955\n",
       " -0.00296939 \n",
       " -0.00111269 \n",
       " -0.00365835 \n",
       "  0.00479528 \n",
       " -0.00138291 \n",
       "  0.00568393 \n",
       "  0.00779364 \n",
       "  0.00161319 \n",
       " -0.000354816\n",
       " -0.00612251 \n",
       " -0.0053742  "
      ]
     },
     "execution_count": 22,
     "metadata": {},
     "output_type": "execute_result"
    }
   ],
   "source": [
    "dow_log_returns = diff(log(df[:DOW]))"
   ]
  },
  {
   "cell_type": "code",
   "execution_count": 13,
   "metadata": {},
   "outputs": [
    {
     "data": {
      "text/plain": [
       "19-element DataArrays.DataArray{Float64,1}:\n",
       "  0.0087878  \n",
       "  0.00199544 \n",
       "  0.00601693 \n",
       "  0.00194696 \n",
       "  0.00360893 \n",
       "  0.00212858 \n",
       " -0.00290873 \n",
       "  0.00478886 \n",
       " -0.00636925 \n",
       "  0.00305018 \n",
       " -0.00280646 \n",
       "  0.00274889 \n",
       " -0.000430335\n",
       "  0.0086105  \n",
       "  0.00983901 \n",
       " -0.000205042\n",
       "  0.000989684\n",
       " -0.00834984 \n",
       "  0.000192382"
      ]
     },
     "execution_count": 13,
     "metadata": {},
     "output_type": "execute_result"
    }
   ],
   "source": [
    "nasdaq_log_returns = diff(log(df[:NASDAQ]))"
   ]
  },
  {
   "cell_type": "code",
   "execution_count": 23,
   "metadata": {},
   "outputs": [
    {
     "data": {
      "text/plain": [
       "19-element DataArrays.DataArray{Float64,1}:\n",
       "  0.00570596 \n",
       " -0.000770968\n",
       "  0.00351079 \n",
       " -0.00355491 \n",
       "  0.0        \n",
       "  0.00282564 \n",
       " -0.00214711 \n",
       "  0.00184813 \n",
       " -0.00297191 \n",
       "  0.0017622  \n",
       " -0.00361584 \n",
       "  0.00336058 \n",
       " -0.00269375 \n",
       "  0.00654314 \n",
       "  0.00799405 \n",
       " -0.000735655\n",
       " -0.00086684 \n",
       " -0.00602767 \n",
       " -0.000890302"
      ]
     },
     "execution_count": 23,
     "metadata": {},
     "output_type": "execute_result"
    }
   ],
   "source": [
    "sp_log_returns = diff(log(df[:SP500]))"
   ]
  },
  {
   "cell_type": "markdown",
   "metadata": {},
   "source": [
    "**(ii) Compute the sample covariance matrix of the log daily returns of the three indices over the given time period.**"
   ]
  },
  {
   "cell_type": "markdown",
   "metadata": {},
   "source": [
    "We construct the normalized matrix $T_{x}$ by substracting the mean from the log returns vectors and calculate the covariance matrix using formula (1.35) in the textbook: $$\\Sigma_{x} = \\frac{1}{N-1}(T_{x})^tT_{x}$$"
   ]
  },
  {
   "cell_type": "code",
   "execution_count": 31,
   "metadata": {},
   "outputs": [
    {
     "data": {
      "text/plain": [
       "3×3 DataArrays.DataArray{Float64,2}:\n",
       " 0.00544932  0.00500235  0.00465467\n",
       " 0.00500235  0.00793864  0.00563904\n",
       " 0.00465467  0.00563904  0.0049076 "
      ]
     },
     "execution_count": 31,
     "metadata": {},
     "output_type": "execute_result"
    }
   ],
   "source": [
    "dow_norm_log_returns = dow_log_returns - mean(dow_log_returns)\n",
    "nasdaq_norm_log_returns = nasdaq_log_returns - mean(nasdaq_log_returns)\n",
    "sp_norm_log_returns = sp_log_returns - mean(sp_log_returns)\n",
    "T_norm = hcat(dow_norm_log_returns,nasdaq_norm_log_returns,sp_norm_log_returns)\n",
    "sigma = size(T_norm,1)*transpose(T_norm)*T_norm"
   ]
  },
  {
   "cell_type": "markdown",
   "metadata": {},
   "source": [
    "**(iii) Compute the percentage daily returns of the three indices over the given time period.**"
   ]
  },
  {
   "cell_type": "markdown",
   "metadata": {},
   "source": [
    "The percentage daily returns are calculated as $\\frac{S_{i+1}-S_{i}}{S_{i}}, \\forall i=2:n$ "
   ]
  },
  {
   "cell_type": "code",
   "execution_count": 45,
   "metadata": {},
   "outputs": [
    {
     "data": {
      "text/plain": [
       "19-element DataArrays.DataArray{Float64,1}:\n",
       "  0.00302878 \n",
       " -0.0021544  \n",
       "  0.00323143 \n",
       " -0.00384263 \n",
       " -0.00160417 \n",
       "  0.00494881 \n",
       " -0.0031813  \n",
       " -0.000264991\n",
       " -0.0029738  \n",
       " -0.00111331 \n",
       " -0.00366505 \n",
       "  0.0047838  \n",
       " -0.00138387 \n",
       "  0.0056678  \n",
       "  0.00776335 \n",
       "  0.00161189 \n",
       " -0.000354879\n",
       " -0.00614129 \n",
       " -0.00538867 "
      ]
     },
     "execution_count": 45,
     "metadata": {},
     "output_type": "execute_result"
    }
   ],
   "source": [
    "dow_returns = diff(df[:DOW])./df[2:end,:DOW]"
   ]
  },
  {
   "cell_type": "code",
   "execution_count": 46,
   "metadata": {},
   "outputs": [
    {
     "data": {
      "text/plain": [
       "19-element DataArrays.DataArray{Float64,1}:\n",
       "  0.0087493  \n",
       "  0.00199345 \n",
       "  0.00599887 \n",
       "  0.00194507 \n",
       "  0.00360242 \n",
       "  0.00212632 \n",
       " -0.00291297 \n",
       "  0.00477741 \n",
       " -0.00638958 \n",
       "  0.00304553 \n",
       " -0.0028104  \n",
       "  0.00274511 \n",
       " -0.000430427\n",
       "  0.00857353 \n",
       "  0.00979076 \n",
       " -0.000205063\n",
       "  0.000989194\n",
       " -0.0083848  \n",
       "  0.000192363"
      ]
     },
     "execution_count": 46,
     "metadata": {},
     "output_type": "execute_result"
    }
   ],
   "source": [
    "nasdaq_returns = diff(df[:NASDAQ])./df[2:end,:NASDAQ]"
   ]
  },
  {
   "cell_type": "code",
   "execution_count": 47,
   "metadata": {},
   "outputs": [
    {
     "data": {
      "text/plain": [
       "19-element DataArrays.DataArray{Float64,1}:\n",
       "  0.00568972 \n",
       " -0.000771265\n",
       "  0.00350463 \n",
       " -0.00356123 \n",
       "  0.0        \n",
       "  0.00282165 \n",
       " -0.00214942 \n",
       "  0.00184643 \n",
       " -0.00297633 \n",
       "  0.00176065 \n",
       " -0.00362238 \n",
       "  0.00335494 \n",
       " -0.00269738 \n",
       "  0.00652178 \n",
       "  0.00796219 \n",
       " -0.000735925\n",
       " -0.000867216\n",
       " -0.00604588 \n",
       " -0.000890698"
      ]
     },
     "execution_count": 47,
     "metadata": {},
     "output_type": "execute_result"
    }
   ],
   "source": [
    "sp_returns = diff(df[:SP500])./df[2:end,:SP500]"
   ]
  },
  {
   "cell_type": "markdown",
   "metadata": {},
   "source": [
    "**(iv) Compute the sample covariance matrix of the percentage daily returns of the three indices over the given time period.**"
   ]
  },
  {
   "cell_type": "markdown",
   "metadata": {},
   "source": [
    "In the same way as in point (ii), we construct the normalized matrix $T_{x}$ and calculate the covariance matrix using formula (1.35) in the textbook."
   ]
  },
  {
   "cell_type": "code",
   "execution_count": 48,
   "metadata": {},
   "outputs": [
    {
     "data": {
      "text/plain": [
       "3×3 DataArrays.DataArray{Float64,2}:\n",
       " 0.00544175  0.00499114  0.00464533\n",
       " 0.00499114  0.00792014  0.00562336\n",
       " 0.00464533  0.00562336  0.00489637"
      ]
     },
     "execution_count": 48,
     "metadata": {},
     "output_type": "execute_result"
    }
   ],
   "source": [
    "dow_norm_returns = dow_returns - mean(dow_returns)\n",
    "nasdaq_norm_returns = nasdaq_returns - mean(nasdaq_returns)\n",
    "sp_norm_returns = sp_returns - mean(sp_returns)\n",
    "T_norm_2 = hcat(dow_norm_returns,nasdaq_norm_returns,sp_norm_returns)\n",
    "sigma = size(T_norm_2,1)*transpose(T_norm_2)*T_norm_2"
   ]
  },
  {
   "cell_type": "markdown",
   "metadata": {},
   "source": [
    "--------------\n",
    "**(11) The file *indices-july2016.csv* contains the January 2016 - July 2016 end of day values of nine major US indices.**\n",
    "\n",
    "**(i) Compute the sample covariance matrix of the daily percentage returns of the indices, and the corresponding sample correlation matrix. Compute the sample covariance and correlation matrices for daily log returns, and compare them with the corresponding matrices for daily percentage returns.**"
   ]
  },
  {
   "cell_type": "markdown",
   "metadata": {},
   "source": [
    "The covariance matrix is calculated using the process described in problem 10. "
   ]
  },
  {
   "cell_type": "code",
   "execution_count": 98,
   "metadata": {},
   "outputs": [
    {
     "name": "stdout",
     "output_type": "stream",
     "text": [
      "9×9 DataArrays.DataArray{Float64,2}:\n",
      " 11.141    5.09347  10.9481   7.9007   7.81016  10.474    4.10859  6.15085  6.11595\n",
      "  5.09347  6.10928   5.67271  4.38973  4.29132   5.50456  4.42736  3.48702  3.3516 \n",
      " 10.9481   5.67271  12.0995   8.45402  8.34689  11.2926   4.72256  6.50711  6.51138\n",
      "  7.9007   4.38973   8.45402  7.37405  6.12449   8.72175  3.65295  5.00749  4.83638\n",
      "  7.81016  4.29132   8.34689  6.12449  6.67676   8.09324  3.43315  5.08592  4.82634\n",
      " 10.474    5.50456  11.2926   8.72175  8.09324  12.3576   4.6782   6.52446  6.38642\n",
      "  4.10859  4.42736   4.72256  3.65295  3.43315   4.6782   3.98097  2.89125  2.81051\n",
      "  6.15085  3.48702   6.50711  5.00749  5.08592   6.52446  2.89125  4.6497   4.08472\n",
      "  6.11595  3.3516    6.51138  4.83638  4.82634   6.38642  2.81051  4.08472  4.66212"
     ]
    }
   ],
   "source": [
    "index_data = readtable(\"indices-july2016.csv\");\n",
    "dfmt = Dates.DateFormat(\"m/d/y\")\n",
    "index_data[:Date] = Date(index_data[:Date], dfmt)\n",
    "\n",
    "daily_returns = hcat(diff(index_data[:BAC])./index_data[2:end,:BAC], \n",
    "                 diff(index_data[:BNS])./index_data[2:end,:BNS],\n",
    "                 diff(index_data[:C])./index_data[2:end,:C],\n",
    "                 diff(index_data[:GS])./index_data[2:end,:GS],\n",
    "                 diff(index_data[:JPM])./index_data[2:end,:JPM],\n",
    "                 diff(index_data[:MS])./index_data[2:end,:MS],\n",
    "                 diff(index_data[:TD])./index_data[2:end,:TD],\n",
    "                 diff(index_data[:USB])./index_data[2:end,:USB],\n",
    "                 diff(index_data[:WFC])./index_data[2:end,:WFC]);\n",
    "T_norm = hcat(daily_returns[:,1]-mean(daily_returns[:,1]), \n",
    "              daily_returns[:,2]-mean(daily_returns[:,2]),\n",
    "              daily_returns[:,3]-mean(daily_returns[:,3]),\n",
    "              daily_returns[:,4]-mean(daily_returns[:,4]),\n",
    "              daily_returns[:,5]-mean(daily_returns[:,5]),\n",
    "              daily_returns[:,6]-mean(daily_returns[:,6]),\n",
    "              daily_returns[:,7]-mean(daily_returns[:,7]),\n",
    "              daily_returns[:,8]-mean(daily_returns[:,8]),\n",
    "              daily_returns[:,9]-mean(daily_returns[:,9]));\n",
    "sigma = size(T_norm,1)*transpose(T_norm)*T_norm\n",
    "show(IOContext(STDOUT), \"text/plain\", sigma)"
   ]
  },
  {
   "cell_type": "markdown",
   "metadata": {},
   "source": [
    "The correlation matrix is then calculated as $$\\Omega = (D_{\\sigma})^{-1}\\Sigma(D_{\\sigma})^{-1}$$ \n",
    "where $D_{\\sigma}$ is the diagonal matrix with diagonal values equivalent to the standard deviations of each random variable $X_{i}$   "
   ]
  },
  {
   "cell_type": "code",
   "execution_count": 99,
   "metadata": {},
   "outputs": [
    {
     "name": "stdout",
     "output_type": "stream",
     "text": [
      "9×9 DataArrays.DataArray{Float64,2}:\n",
      " 1.0       0.617387  0.942957  0.871668  0.905556  0.892651  0.616932  0.854597  0.848616\n",
      " 0.617387  1.0       0.6598    0.654019  0.671912  0.633519  0.897749  0.654255  0.628009\n",
      " 0.942957  0.6598    1.0       0.895007  0.928662  0.923515  0.680455  0.867544  0.866956\n",
      " 0.871668  0.654019  0.895007  1.0       0.872839  0.913656  0.674212  0.855174  0.824851\n",
      " 0.905556  0.671912  0.928662  0.872839  1.0       0.890988  0.665909  0.912797  0.865054\n",
      " 0.892651  0.633519  0.923515  0.913656  0.890988  1.0       0.666985  0.860725  0.841391\n",
      " 0.616932  0.897749  0.680455  0.674212  0.665909  0.666985  1.0       0.672014  0.652378\n",
      " 0.854597  0.654255  0.867544  0.855174  0.912797  0.860725  0.672014  1.0       0.87732 \n",
      " 0.848616  0.628009  0.866956  0.824851  0.865054  0.841391  0.652378  0.87732   1.0     "
     ]
    }
   ],
   "source": [
    "d_sigma_inverse = inv(Diagonal([sqrt(sigma[1,1]); \n",
    "                                sqrt(sigma[2,2]);\n",
    "                                sqrt(sigma[3,3]);\n",
    "                                sqrt(sigma[4,4]);\n",
    "                                sqrt(sigma[5,5]);\n",
    "                                sqrt(sigma[6,6]);\n",
    "                                sqrt(sigma[7,7]);\n",
    "                                sqrt(sigma[8,8]);\n",
    "                                sqrt(sigma[9,9])]))\n",
    "omega = d_sigma_inverse*sigma*d_sigma_inverse\n",
    "show(IOContext(STDOUT), \"text/plain\", omega)"
   ]
  },
  {
   "cell_type": "markdown",
   "metadata": {},
   "source": [
    "For log returns, the process is the same, as shown below the figures do not differ much from those obtained with percentage returns as it is expected for small periods of time."
   ]
  },
  {
   "cell_type": "code",
   "execution_count": 100,
   "metadata": {},
   "outputs": [
    {
     "name": "stdout",
     "output_type": "stream",
     "text": [
      "9×9 DataArrays.DataArray{Float64,2}:\n",
      " 11.0219   5.07725  10.8214   7.80128  7.77423  10.3331   4.06894  6.08914  6.09098\n",
      "  5.07725  6.16816   5.65022  4.37001  4.30747   5.47519  4.44102  3.48281  3.35734\n",
      " 10.8214   5.65022  11.94     8.33007  8.29818  11.1098   4.66081  6.43149  6.46893\n",
      "  7.80128  4.37001   8.33007  7.28173  6.08043   8.5852   3.61577  4.95274  4.8002 \n",
      "  7.77423  4.30747   8.29818  6.08043  6.69005   8.02143  3.4257   5.0613   4.82962\n",
      " 10.3331   5.47519  11.1098   8.5852   8.02143  12.1466   4.62175  6.44351  6.33143\n",
      "  4.06894  4.44102   4.66081  3.61577  3.4257    4.62175  3.97594  2.87414  2.79597\n",
      "  6.08914  3.48281   6.43149  4.95274  5.0613    6.44351  2.87414  4.61325  4.06988\n",
      "  6.09098  3.35734   6.46893  4.8002   4.82962   6.33143  2.79597  4.06988  4.65477"
     ]
    }
   ],
   "source": [
    "daily_log_returns = hcat(diff(log(index_data[:BAC])), diff(log(index_data[:BNS])),\n",
    "    diff(log(index_data[:C])), diff(log(index_data[:GS])),\n",
    "    diff(log(index_data[:JPM])), diff(log(index_data[:MS])),\n",
    "    diff(log(index_data[:TD])), diff(log(index_data[:USB])), diff(log(index_data[:WFC])));\n",
    "T_norm_2 = hcat(daily_log_returns[:,1]-mean(daily_log_returns[:,1]), \n",
    "              daily_log_returns[:,2]-mean(daily_log_returns[:,2]),\n",
    "              daily_log_returns[:,3]-mean(daily_log_returns[:,3]),\n",
    "              daily_log_returns[:,4]-mean(daily_log_returns[:,4]),\n",
    "              daily_log_returns[:,5]-mean(daily_log_returns[:,5]),\n",
    "              daily_log_returns[:,6]-mean(daily_log_returns[:,6]),\n",
    "              daily_log_returns[:,7]-mean(daily_log_returns[:,7]),\n",
    "              daily_log_returns[:,8]-mean(daily_log_returns[:,8]),\n",
    "              daily_log_returns[:,9]-mean(daily_log_returns[:,9]));\n",
    "sigma_2 = size(T_norm_2,1)*transpose(T_norm_2)*T_norm_2\n",
    "show(IOContext(STDOUT), \"text/plain\", sigma_2)"
   ]
  },
  {
   "cell_type": "code",
   "execution_count": 102,
   "metadata": {},
   "outputs": [
    {
     "name": "stdout",
     "output_type": "stream",
     "text": [
      "9×9 DataArrays.DataArray{Float64,2}:\n",
      " 1.0       0.615775  0.943308  0.870803  0.905344  0.893048  0.614656  0.853932  0.850373\n",
      " 0.615775  1.0       0.658394  0.65206   0.670548  0.632548  0.896778  0.652902  0.626568\n",
      " 0.943308  0.658394  1.0       0.893366  0.928466  0.922524  0.676455  0.866574  0.867723\n",
      " 0.870803  0.65206   0.893366  1.0       0.871169  0.912862  0.671991  0.854523  0.824505\n",
      " 0.905344  0.670548  0.928466  0.871169  1.0       0.889834  0.664224  0.911052  0.865464\n",
      " 0.893048  0.632548  0.922524  0.912862  0.889834  1.0       0.665056  0.860777  0.842024\n",
      " 0.614656  0.896778  0.676455  0.671991  0.664224  0.665056  1.0       0.671095  0.649924\n",
      " 0.853932  0.652902  0.866574  0.854523  0.911052  0.860777  0.671095  1.0       0.878271\n",
      " 0.850373  0.626568  0.867723  0.824505  0.865464  0.842024  0.649924  0.878271  1.0     "
     ]
    }
   ],
   "source": [
    "d_sigma_inverse_2 = inv(Diagonal([sqrt(sigma_2[1,1]); \n",
    "                                sqrt(sigma_2[2,2]);\n",
    "                                sqrt(sigma_2[3,3]);\n",
    "                                sqrt(sigma_2[4,4]);\n",
    "                                sqrt(sigma_2[5,5]);\n",
    "                                sqrt(sigma_2[6,6]);\n",
    "                                sqrt(sigma_2[7,7]);\n",
    "                                sqrt(sigma_2[8,8]);\n",
    "                                sqrt(sigma_2[9,9])]))\n",
    "omega_2 = d_sigma_inverse_2*sigma_2*d_sigma_inverse_2\n",
    "show(IOContext(STDOUT), \"text/plain\", omega_2)"
   ]
  },
  {
   "cell_type": "markdown",
   "metadata": {},
   "source": [
    "**(ii) Compute the sample covariance matrix of the weekly percentage returns of the indices, and the corresponding sample correlation matrix. Compute the sample covariance and correlation matrices for weekly log returns, and compare them with the corresponding matrices for weekly percentage returns.**"
   ]
  },
  {
   "cell_type": "code",
   "execution_count": 105,
   "metadata": {},
   "outputs": [
    {
     "data": {
      "text/plain": [
       "30x36 TimeSeries.TimeArray{Float64,2,Date,Array{Float64,2}} 2016-01-04 to 2016-07-25\n",
       "│            │ BAC.Open │ BAC.High │ BAC.Low │ BAC.Close │ BNS.Open │ BNS.High │\n",
       "├────────────┼──────────┼──────────┼─────────┼───────────┼──────────┼──────────┤\n",
       "│ 2016-01-04 │ 16.1768  │ 38.1836  │ 50.5166 │ 174.4288  │ 61.87    │ 30.5877  │\n",
       "│ 2016-01-11 │ 15.0741  │ 36.4689  │ 46.2879 │ 163.1934  │ 57.2118  │ 27.6533  │\n",
       "│ 2016-01-18 │ 14.0205  │ 35.0128  │ 41.4368 │ 154.4198  │ 55.4419  │ 25.5157  │\n",
       "│ 2016-01-25 │ 12.7603  │ 35.5205  │ 39.0755 │ 148.807   │ 54.129   │ 24.272   │\n",
       "│ 2016-02-01 │ 13.7449  │ 38.7488  │ 42.0222 │ 157.2064  │ 57.241   │ 25.1292  │\n",
       "│ 2016-02-08 │ 12.0809  │ 38.2986  │ 37.4025 │ 146.9656  │ 54.9848  │ 22.1578  │\n",
       "│ 2016-02-15 │ 12.0612  │ 37.992   │ 38.4708 │ 146.7392  │ 56.745   │ 23.1841  │\n",
       "│ 2016-02-22 │ 12.3467  │ 38.8159  │ 39.0941 │ 146.5127  │ 56.9589  │ 23.9856  │\n",
       "│ 2016-02-29 │ 12.3271  │ 38.3177  │ 38.4313 │ 147.8811  │ 54.7514  │ 24.142   │\n",
       "│ 2016-03-07 │ 13.3722  │ 43.6918  │ 42.1508 │ 153.6369  │ 58.2913  │ 25.5006  │\n",
       "│ 2016-03-14 │ 13.4809  │ 44.8126  │ 42.2101 │ 151.7974  │ 57.4938  │ 25.3246  │\n",
       "│ 2016-03-21 │ 13.6786  │ 46.5944  │ 43.1301 │ 154.5666  │ 58.797   │ 25.354   │\n",
       "   ⋮\n",
       "│ 2016-05-16 │ 13.7675  │ 47.3419  │ 42.7301 │ 153.6666  │ 60.4079  │ 25.7581  │\n",
       "│ 2016-05-23 │ 14.3012  │ 46.7896  │ 44.671  │ 153.7358  │ 62.1714  │ 26.3674  │\n",
       "│ 2016-05-30 │ 14.6175  │ 47.4097  │ 46.1168 │ 158.3679  │ 63.9446  │ 26.8981  │\n",
       "│ 2016-06-06 │ 14.3993  │ 49.832   │ 45.2949 │ 155.9648  │ 63.9544  │ 26.3871  │\n",
       "│ 2016-06-13 │ 13.487   │ 49.1925  │ 42.74   │ 147.5936  │ 61.9852  │ 24.8245  │\n",
       "│ 2016-06-20 │ 13.4275  │ 49.2216  │ 42.3835 │ 146.7197  │ 61.1035  │ 25.4535  │\n",
       "│ 2016-06-27 │ 12.0788  │ 46.5474  │ 38.1055 │ 138.5371  │ 56.4401  │ 23.2029  │\n",
       "│ 2016-07-04 │ 12.6341  │ 47.672   │ 40.3831 │ 143.4427  │ 58.7949  │ 24.569   │\n",
       "│ 2016-07-11 │ 13.1002  │ 47.7602  │ 41.8784 │ 151.1287  │ 61.4804  │ 26.0038  │\n",
       "│ 2016-07-18 │ 13.9927  │ 49.5926  │ 44.1363 │ 162.191   │ 63.149   │ 27.7236  │\n",
       "│ 2016-07-25 │ 14.2506  │ 48.7695  │ 43.6114 │ 159.3907  │ 63.0601  │ 28.6278  │\n",
       "\n",
       "│            │ BNS.Low │ BNS.Close │ C.Open  │ C.High  │ C.Low   │ C.Close │\n",
       "├────────────┼─────────┼───────────┼─────────┼─────────┼─────────┼─────────┤\n",
       "│ 2016-01-04 │ 36.7902 │ 40.4634   │ 50.9166 │ 16.1768 │ 38.4518 │ 50.5166 │\n",
       "│ 2016-01-11 │ 34.7643 │ 38.8831   │ 48.2029 │ 15.0741 │ 36.4689 │ 46.3176 │\n",
       "│ 2016-01-18 │ 33.2712 │ 38.171    │ 46.3937 │ 14.0205 │ 36.8329 │ 41.4368 │\n",
       "│ 2016-01-25 │ 33.8588 │ 37.3515   │ 45.8644 │ 13.9221 │ 39.1224 │ 42.1211 │\n",
       "│ 2016-02-01 │ 36.1418 │ 38.8245   │ 48.0585 │ 13.7449 │ 39.6014 │ 42.0222 │\n",
       "│ 2016-02-08 │ 35.612  │ 38.5612   │ 45.0944 │ 12.0809 │ 38.2986 │ 37.4025 │\n",
       "│ 2016-02-15 │ 35.9973 │ 39.205    │ 46.7819 │ 12.3664 │ 39.2948 │ 39.3513 │\n",
       "│ 2016-02-22 │ 36.7294 │ 39.244    │ 47.7031 │ 12.5043 │ 38.8159 │ 39.0941 │\n",
       "│ 2016-02-29 │ 37.2399 │ 37.5759   │ 45.5018 │ 13.3821 │ 42.7817 │ 42.3684 │\n",
       "│ 2016-03-07 │ 39.3495 │ 39.7708   │ 48.5565 │ 13.6291 │ 45.1    │ 42.5267 │\n",
       "│ 2016-03-14 │ 39.9467 │ 39.4976   │ 48.3723 │ 13.6291 │ 47.1021 │ 43.0707 │\n",
       "│ 2016-03-21 │ 40.9774 │ 40.3658   │ 49.1384 │ 13.6786 │ 46.6327 │ 43.1301 │\n",
       "   ⋮\n",
       "│ 2016-05-16 │ 42.4262 │ 40.9247   │ 47.1694 │ 14.5187 │ 47.3419 │ 45.4236 │\n",
       "│ 2016-05-23 │ 41.8424 │ 40.8952   │ 47.5896 │ 14.746  │ 48.3399 │ 46.4832 │\n",
       "│ 2016-05-30 │ 42.4164 │ 42.0339   │ 49.5636 │ 14.8158 │ 48.9891 │ 46.5129 │\n",
       "│ 2016-06-06 │ 43.5741 │ 42.0928   │ 49.3388 │ 14.3993 │ 51.0238 │ 45.2949 │\n",
       "│ 2016-06-13 │ 42.9612 │ 40.9149   │ 46.8763 │ 13.487  │ 49.1925 │ 42.74   │\n",
       "│ 2016-06-20 │ 42.4748 │ 40.4633   │ 45.86   │ 13.9233 │ 49.7933 │ 44.0273 │\n",
       "│ 2016-06-27 │ 40.5485 │ 37.9798   │ 43.9838 │ 13.1597 │ 48.4168 │ 41.9775 │\n",
       "│ 2016-07-04 │ 41.8619 │ 38.5974   │ 45.1564 │ 13.0605 │ 47.721  │ 41.5715 │\n",
       "│ 2016-07-11 │ 41.5907 │ 39.8227   │ 46.9838 │ 13.5465 │ 49.7396 │ 44.0174 │\n",
       "│ 2016-07-18 │ 42.9171 │ 41.384    │ 47.1792 │ 14.2803 │ 49.5926 │ 44.1363 │\n",
       "│ 2016-07-25 │ 42.4553 │ 41.4729   │ 47.0229 │ 14.558  │ 49.7494 │ 43.859  │\n",
       "\n",
       "│            │ GS.Open  │ GS.High │ GS.Low  │ GS.Close │ JPM.Open │ JPM.High │\n",
       "├────────────┼──────────┼─────────┼─────────┼──────────┼──────────┼──────────┤\n",
       "│ 2016-01-04 │ 174.4288 │ 61.977  │ 30.5877 │ 36.7902  │ 40.6585  │ 50.9166  │\n",
       "│ 2016-01-11 │ 163.1934 │ 57.3382 │ 27.6533 │ 35.3808  │ 39.6244  │ 49.425   │\n",
       "│ 2016-01-18 │ 154.4592 │ 55.4419 │ 25.5157 │ 35.1496  │ 38.4051  │ 47.1732  │\n",
       "│ 2016-01-25 │ 159.0872 │ 57.8634 │ 25.2953 │ 36.45    │ 39.0782  │ 48.3376  │\n",
       "│ 2016-02-01 │ 157.2064 │ 57.241  │ 25.1292 │ 36.8739  │ 39.1269  │ 48.0585  │\n",
       "│ 2016-02-08 │ 146.9656 │ 55.9087 │ 22.5684 │ 35.612   │ 38.5612  │ 45.88    │\n",
       "│ 2016-02-15 │ 148.6298 │ 57.1534 │ 23.6826 │ 36.9317  │ 39.205   │ 46.7819  │\n",
       "│ 2016-02-22 │ 147.9503 │ 56.9589 │ 24.5916 │ 37.2495  │ 39.244   │ 47.7031  │\n",
       "│ 2016-02-29 │ 155.1105 │ 58.3982 │ 25.5494 │ 38.81    │ 40.0244  │ 48.5953  │\n",
       "│ 2016-03-07 │ 153.6369 │ 58.2913 │ 25.5006 │ 40.1201  │ 39.7708  │ 48.5565  │\n",
       "│ 2016-03-14 │ 155.8621 │ 58.8164 │ 25.6863 │ 41.4783  │ 40.3073  │ 49.0123  │\n",
       "│ 2016-03-21 │ 154.5666 │ 58.797  │ 25.354  │ 40.9774  │ 40.3658  │ 49.1384  │\n",
       "   ⋮\n",
       "│ 2016-05-16 │ 158.1763 │ 62.7396 │ 26.7704 │ 42.4262  │ 40.9738  │ 47.6385  │\n",
       "│ 2016-05-23 │ 159.4719 │ 64.1895 │ 27.301  │ 43.1558  │ 42.1714  │ 49.6906  │\n",
       "│ 2016-05-30 │ 158.8545 │ 64.4736 │ 27.016  │ 43.0391  │ 42.2695  │ 49.9447  │\n",
       "│ 2016-06-06 │ 155.9648 │ 63.9544 │ 26.3871 │ 44.1092  │ 42.0928  │ 49.3388  │\n",
       "│ 2016-06-13 │ 147.5936 │ 61.9852 │ 24.8736 │ 42.9612  │ 40.9149  │ 46.8763  │\n",
       "│ 2016-06-20 │ 151.5955 │ 62.7494 │ 26.8195 │ 43.1947  │ 41.4548  │ 46.8176  │\n",
       "│ 2016-06-27 │ 147.5439 │ 60.8782 │ 25.5321 │ 41.8133  │ 39.8523  │ 46.2509  │\n",
       "│ 2016-07-04 │ 149.3314 │ 61.046  │ 25.9154 │ 41.8619  │ 39.6152  │ 46.7004  │\n",
       "│ 2016-07-11 │ 161.4065 │ 63.3662 │ 27.5271 │ 43.0449  │ 41.3938  │ 47.8242  │\n",
       "│ 2016-07-18 │ 162.191  │ 63.228  │ 28.4214 │ 42.9171  │ 41.6903  │ 47.5017  │\n",
       "│ 2016-07-25 │ 160.0362 │ 63.5143 │ 28.726  │ 42.8091  │ 41.6705  │ 47.0326  │\n",
       "\n",
       "│            │ JPM.Low │ JPM.Close │ MS.Open │ MS.High  │ MS.Low  │ MS.Close │\n",
       "├────────────┼─────────┼───────────┼─────────┼──────────┼─────────┼──────────┤\n",
       "│ 2016-01-04 │ 14.9658 │ 36.9095   │ 45.5766 │ 161.4308 │ 57.2993 │ 27.5756  │\n",
       "│ 2016-01-11 │ 14.2372 │ 34.486    │ 41.9605 │ 153.2283 │ 55.471  │ 25.2339  │\n",
       "│ 2016-01-18 │ 13.1541 │ 34.2944   │ 39.6683 │ 149.3289 │ 53.7303 │ 24.0776  │\n",
       "│ 2016-01-25 │ 12.7603 │ 35.5205   │ 39.0755 │ 148.807  │ 54.129  │ 24.272   │\n",
       "│ 2016-02-01 │ 12.7504 │ 37.925    │ 39.4304 │ 149.3781 │ 55.4613 │ 23.7706  │\n",
       "│ 2016-02-08 │ 10.988  │ 35.7888   │ 34.603  │ 138.5367 │ 51.6102 │ 21.2     │\n",
       "│ 2016-02-15 │ 11.9431 │ 37.992    │ 38.4708 │ 144.6615 │ 56.2198 │ 23.1841  │\n",
       "│ 2016-02-22 │ 11.9431 │ 37.4843   │ 37.6795 │ 142.6921 │ 54.5763 │ 23.1743  │\n",
       "│ 2016-02-29 │ 12.3271 │ 38.3177   │ 38.4313 │ 147.8811 │ 54.7514 │ 24.142   │\n",
       "│ 2016-03-07 │ 12.9077 │ 43.6918   │ 40.6076 │ 148.2569 │ 56.9978 │ 24.054   │\n",
       "│ 2016-03-14 │ 13.1547 │ 44.6976   │ 41.7748 │ 148.88   │ 57.134  │ 24.5916  │\n",
       "│ 2016-03-21 │ 13.4611 │ 45.0808   │ 41.488  │ 151.3128 │ 57.8439 │ 24.3668  │\n",
       "   ⋮\n",
       "│ 2016-05-16 │ 13.7675 │ 46.3923   │ 42.7301 │ 152.8062 │ 60.4079 │ 25.709   │\n",
       "│ 2016-05-23 │ 14.3012 │ 46.7896   │ 44.671  │ 153.7358 │ 62.1714 │ 26.3674  │\n",
       "│ 2016-05-30 │ 14.3001 │ 47.4097   │ 44.9483 │ 154.5845 │ 63.3274 │ 26.0824  │\n",
       "│ 2016-06-06 │ 13.715  │ 49.5414   │ 43.4728 │ 148.8448 │ 62.5436 │ 25.0997  │\n",
       "│ 2016-06-13 │ 13.1498 │ 48.0298   │ 41.5517 │ 144.6244 │ 60.7116 │ 24.1759  │\n",
       "│ 2016-06-20 │ 12.8919 │ 47.7295   │ 39.9078 │ 140.8708 │ 58.3897 │ 24.0972  │\n",
       "│ 2016-06-27 │ 12.0788 │ 46.5474   │ 38.1055 │ 138.5371 │ 56.4401 │ 23.2029  │\n",
       "│ 2016-07-04 │ 12.6341 │ 47.3487   │ 40.3831 │ 143.4427 │ 58.7949 │ 24.569   │\n",
       "│ 2016-07-11 │ 13.1002 │ 47.7602   │ 41.8784 │ 151.1287 │ 61.4804 │ 26.0038  │\n",
       "│ 2016-07-18 │ 13.9927 │ 49.2203   │ 43.7005 │ 158.9339 │ 62.8824 │ 27.704   │\n",
       "│ 2016-07-25 │ 14.2506 │ 48.7695   │ 43.5409 │ 157.7026 │ 63.0601 │ 28.4292  │\n",
       "\n",
       "│            │ TD.Open │ TD.High │ TD.Low  │ TD.Close │ USB.Open │ USB.High │\n",
       "├────────────┼─────────┼─────────┼─────────┼──────────┼──────────┼──────────┤\n",
       "│ 2016-01-04 │ 34.7354 │ 38.727  │ 47.6929 │ 14.9658  │ 36.9287  │ 45.5766  │\n",
       "│ 2016-01-11 │ 32.7896 │ 38.0539 │ 46.9807 │ 14.2372  │ 34.486   │ 41.9605  │\n",
       "│ 2016-01-18 │ 32.8281 │ 37.5759 │ 46.0665 │ 13.351   │ 36.8329  │ 40.5674  │\n",
       "│ 2016-01-25 │ 33.8588 │ 37.3515 │ 45.8644 │ 13.9221  │ 39.1224  │ 42.1211  │\n",
       "│ 2016-02-01 │ 35.5927 │ 37.8003 │ 46.1612 │ 12.7504  │ 39.1416  │ 39.4304  │\n",
       "│ 2016-02-08 │ 33.9455 │ 36.5321 │ 43.795  │ 11.7658  │ 37.3406  │ 37.1354  │\n",
       "│ 2016-02-15 │ 35.9973 │ 38.4929 │ 46.2873 │ 11.9431  │ 38.95    │ 38.5698  │\n",
       "│ 2016-02-22 │ 36.0647 │ 37.4979 │ 46.1709 │ 12.5043  │ 38.2794  │ 39.0743  │\n",
       "│ 2016-02-29 │ 37.2399 │ 37.5759 │ 45.5018 │ 13.3821  │ 42.7817  │ 42.3684  │\n",
       "│ 2016-03-07 │ 39.205  │ 38.5416 │ 47.0437 │ 13.6291  │ 45.1     │ 42.5267  │\n",
       "│ 2016-03-14 │ 39.9178 │ 39.4976 │ 48.0426 │ 13.6291  │ 46.6806  │ 43.0707  │\n",
       "│ 2016-03-21 │ 40.2357 │ 39.7805 │ 47.4219 │ 13.5204  │ 45.0808  │ 41.488   │\n",
       "   ⋮\n",
       "│ 2016-05-16 │ 41.7549 │ 39.9725 │ 46.5343 │ 14.3506  │ 46.6055  │ 44.463   │\n",
       "│ 2016-05-23 │ 41.8424 │ 40.8952 │ 47.5896 │ 14.7064  │ 48.3399  │ 46.1267  │\n",
       "│ 2016-05-30 │ 42.4164 │ 41.5922 │ 49.0457 │ 14.3001  │ 48.9891  │ 44.9483  │\n",
       "│ 2016-06-06 │ 43.292  │ 41.1897 │ 47.2378 │ 13.715   │ 49.5414  │ 43.4728  │\n",
       "│ 2016-06-13 │ 41.8424 │ 40.267  │ 45.5375 │ 13.2886  │ 48.4658  │ 42.0666  │\n",
       "│ 2016-06-20 │ 41.3463 │ 39.1283 │ 44.6678 │ 12.8919  │ 47.7295  │ 39.9078  │\n",
       "│ 2016-06-27 │ 40.5485 │ 37.9798 │ 43.9838 │ 12.9911  │ 48.4168  │ 41.7596  │\n",
       "│ 2016-07-04 │ 41.4433 │ 38.5974 │ 45.1564 │ 13.0605  │ 47.623   │ 41.5715  │\n",
       "│ 2016-07-11 │ 41.5907 │ 39.8227 │ 46.6222 │ 13.5465  │ 49.7396  │ 43.8986  │\n",
       "│ 2016-07-18 │ 42.6912 │ 41.384  │ 47.1792 │ 14.2605  │ 49.2203  │ 43.8689  │\n",
       "│ 2016-07-25 │ 42.4553 │ 41.4729 │ 46.8763 │ 14.3696  │ 49.7494  │ 43.5409  │\n",
       "\n",
       "│            │ USB.Low  │ USB.Close │ WFC.Open │ WFC.High │ WFC.Low │\n",
       "├────────────┼──────────┼───────────┼──────────┼──────────┼─────────┤\n",
       "│ 2016-01-04 │ 161.4308 │ 57.2993   │ 27.5756  │ 34.7354  │ 38.727  │\n",
       "│ 2016-01-11 │ 153.2283 │ 55.471    │ 25.2339  │ 32.7896  │ 38.0929 │\n",
       "│ 2016-01-18 │ 154.4592 │ 55.3835   │ 24.8841  │ 35.1496  │ 38.4051 │\n",
       "│ 2016-01-25 │ 159.0872 │ 57.8634   │ 25.2953  │ 36.45    │ 39.0782 │\n",
       "│ 2016-02-01 │ 154.0751 │ 56.1615   │ 23.7999  │ 36.2863  │ 39.1074 │\n",
       "│ 2016-02-08 │ 143.8934 │ 55.9087   │ 22.5684  │ 35.3037  │ 38.1417 │\n",
       "│ 2016-02-15 │ 144.6615 │ 56.2296   │ 23.4578  │ 36.6619  │ 38.4929 │\n",
       "│ 2016-02-22 │ 147.9503 │ 55.9573   │ 24.5916  │ 37.2495  │ 38.327  │\n",
       "│ 2016-02-29 │ 155.1105 │ 58.3982   │ 25.5397  │ 38.81    │ 40.0244 │\n",
       "│ 2016-03-07 │ 152.2425 │ 57.7078   │ 25.4126  │ 40.1201  │ 39.4684 │\n",
       "│ 2016-03-14 │ 155.8621 │ 58.8164   │ 25.6863  │ 40.9485  │ 40.3073 │\n",
       "│ 2016-03-21 │ 151.3128 │ 57.8439   │ 24.3668  │ 40.2357  │ 39.7805 │\n",
       "   ⋮\n",
       "│ 2016-05-16 │ 152.8062 │ 62.2203   │ 26.3085  │ 41.9008  │ 40.9738 │\n",
       "│ 2016-05-23 │ 158.4175 │ 64.1013   │ 27.0554  │ 43.0001  │ 42.1616 │\n",
       "│ 2016-05-30 │ 154.5845 │ 63.3274   │ 26.0824  │ 43.0391  │ 41.5922 │\n",
       "│ 2016-06-06 │ 148.8448 │ 62.5436   │ 25.0997  │ 43.292   │ 41.1897 │\n",
       "│ 2016-06-13 │ 144.6244 │ 61.0153   │ 24.8736  │ 42.0954  │ 40.3553 │\n",
       "│ 2016-06-20 │ 140.8708 │ 58.3897   │ 24.0972  │ 41.3463  │ 39.1283 │\n",
       "│ 2016-06-27 │ 147.2162 │ 60.4832   │ 25.4731  │ 41.8133  │ 39.5855 │\n",
       "│ 2016-07-04 │ 149.3314 │ 61.046    │ 25.9154  │ 41.4925  │ 39.6152 │\n",
       "│ 2016-07-11 │ 160.5128 │ 63.3662   │ 27.5271  │ 43.0449  │ 41.3938 │\n",
       "│ 2016-07-18 │ 159.2914 │ 63.228    │ 28.4214  │ 42.6912  │ 41.6903 │\n",
       "│ 2016-07-25 │ 157.7026 │ 63.1589   │ 28.4292  │ 42.8091  │ 41.6705 │"
      ]
     },
     "execution_count": 105,
     "metadata": {},
     "output_type": "execute_result"
    }
   ],
   "source": [
    "using TimeSeriesIO\n",
    "using TimeSeriesResampler\n",
    "ta = TimeArray(index_data, colnames=[:BAC, :BNS, :C, :GS, :JPM, :MS, :TD, :USB, :WFC], timestamp=:Date)\n",
    "weekly = ohlc(resample(ta, Dates.Week(1)))"
   ]
  },
  {
   "cell_type": "markdown",
   "metadata": {},
   "source": [
    "**(iii) Compute the sample covariance matrix of the monthly percentage returns of the indices, and the corresponding sample correlation matrix. Compute the sample covariance and correlation matrices for monthly log returns, and compare them with the corresponding matrices for monthly percentage returns.**"
   ]
  },
  {
   "cell_type": "markdown",
   "metadata": {},
   "source": [
    "**(iv) Comment on the differences between the sample covariance and correlation matrices for daily, weekly and monthly returns.** "
   ]
  },
  {
   "cell_type": "markdown",
   "metadata": {},
   "source": [
    "--------------------\n",
    "**(12) Consider a market made of cash and an asset with spot price 40. The continuously compounded risk-free rate is 2%. In four months, the price of the stock will be either 45 or 35.**\n",
    "\n",
    "**(i) What is the payoff matrix M in three months?**"
   ]
  },
  {
   "cell_type": "markdown",
   "metadata": {},
   "source": [
    "The future value of cash is $e^{0.02\\times 0.25} = 1.00501252$ and\n",
    "\n",
    "$$\n",
    "M=\\begin{pmatrix} \n",
    "      1.00501252 & 1.00501252 \\\\ \n",
    "      45 & 35\n",
    "   \\end{pmatrix}\\\\\n",
    "$$"
   ]
  },
  {
   "cell_type": "markdown",
   "metadata": {},
   "source": [
    "**(ii) Is the market complete, i.e., is the matrix M nonsingular?**"
   ]
  },
  {
   "cell_type": "markdown",
   "metadata": {},
   "source": [
    "$$\n",
    "\\begin{align}\n",
    "det(M) =&  1.00501252\\times 35 - 1.00501252\\times 45 \\\\\n",
    "=& 35.1754382 - 45.2255634\\\\ \n",
    "=& -10.0501252 \\neq 0\\\\ \n",
    "\\implies& \\text{the matrix M is nonsingular and the market is complete.}\n",
    "\\end{align}\n",
    "$$"
   ]
  },
  {
   "cell_type": "markdown",
   "metadata": {},
   "source": [
    "**(iii) How do you replicate a four months at-the-money call option on this asset, using the cash and the underlying asset?**"
   ]
  },
  {
   "cell_type": "markdown",
   "metadata": {},
   "source": [
    "The payoff of a 4 months at-the-money call option if the spot price is 40 is $$P\\left(\\frac{4}{12}\\right) = max\\left(S\\left(\\frac{4}{12}\\right) - 40, 0\\right)$$\n",
    "\n",
    "For each given state, the price $S\\left(\\frac{4}{12}\\right)$ is:\n",
    "$$\n",
    "\\omega^1 : S\\left(\\frac{4}{12}\\right) = 45, P\\left(\\frac{4}{12}\\right) = 5\\\\\n",
    "\\omega^2 : S\\left(\\frac{4}{12}\\right) = 35, P\\left(\\frac{4}{12}\\right) = 0\\\\\n",
    "$$\n",
    "\n",
    "Therefore, the value of the portfolio that replicates the call option is:\n",
    "$$\n",
    "\\begin{align}\n",
    "V\\left(\\frac{4}{12}\\right) =& (\\Theta_{1} && \\Theta_{2})\\begin{pmatrix} \n",
    "      1.00501252 & 1.00501252 \\\\ \n",
    "      45 & 35\n",
    "   \\end{pmatrix} = (5 && 0)\\\\\n",
    "\\end{align}\n",
    "$$\n",
    "\n",
    "$$\n",
    "\\implies\n",
    "\\begin{pmatrix} \n",
    "      \\Theta_{1} \\\\\n",
    "      \\Theta_{2}\n",
    "\\end{pmatrix} = \n",
    "\\begin{pmatrix} \n",
    "      -17.4127 \\\\\n",
    "      0.5\n",
    "\\end{pmatrix}\n",
    "$$\n"
   ]
  },
  {
   "cell_type": "markdown",
   "metadata": {},
   "source": [
    "The call option can be replicated by shorting -17.4127 in cash and buying 0.5 units of the asset."
   ]
  },
  {
   "cell_type": "markdown",
   "metadata": {},
   "source": [
    "----------------\n",
    "**(13) In six months, the price of an asset with spot price 42 will be either 35, 38, 40, 43, 45 or 50. Consider a market made of cash, the stock, and a six months at-the-money call and a six months at-the-money put option on one share of the stock. The risk-free interest rate is constant equal to 2%.**\n",
    "\n",
    "**(i) What is the payoff matrix in six months?**"
   ]
  },
  {
   "cell_type": "markdown",
   "metadata": {},
   "source": [
    "The future value of cash is $e^{0.02\\times 0.5} = 1.0100502$, the possible values of the call option are $C\\left(\\frac{1}{2}\\right) = (0 \\ 0 \\ 0 \\ 1 \\ 3 \\ 8)$, the possible values of the put option are $P\\left(\\frac{1}{2}\\right) = (7 \\ 4 \\ 2 \\ 0 \\ 0 \\ 0)$\n",
    "\n",
    "$$\n",
    "M=\\begin{pmatrix} \n",
    "      1.0100502 & 1.0100502 & 1.0100502 & 1.0100502 & 1.0100502 & 1.0100502\\\\ \n",
    "      35 & 38 & 40 & 43 & 45 & 50\\\\ \n",
    "      0 & 0 & 0 & 1 & 3 & 8\\\\ \n",
    "      7 & 4 & 2 & 0 & 0 & 0\\\\ \n",
    "   \\end{pmatrix}\\\\\n",
    "$$"
   ]
  },
  {
   "cell_type": "markdown",
   "metadata": {},
   "source": [
    "**(ii) Is this market complete?**"
   ]
  },
  {
   "cell_type": "markdown",
   "metadata": {},
   "source": [
    "No, the rank of the payoff matrix is 3 which is less than the number of possible states [Theorem 3.3]"
   ]
  },
  {
   "cell_type": "markdown",
   "metadata": {},
   "source": [
    "**(iii) Are all the securities in this market non-redundant?**"
   ]
  },
  {
   "cell_type": "markdown",
   "metadata": {},
   "source": [
    "No, the rank of the payoff matrix is less than the number of possible states.\n",
    "For example, the first row can be expressed as a linear combination of the second, third and fourth rows:\n",
    "$S_{1} = \\frac{e^{0.01}}{42}(S_{2} - S_{3} + S_{4})$"
   ]
  }
 ],
 "metadata": {
  "kernelspec": {
   "display_name": "Julia 0.6.2",
   "language": "julia",
   "name": "julia-0.6"
  },
  "language_info": {
   "file_extension": ".jl",
   "mimetype": "application/julia",
   "name": "julia",
   "version": "0.6.2"
  }
 },
 "nbformat": 4,
 "nbformat_minor": 2
}
