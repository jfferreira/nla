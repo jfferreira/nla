{
 "cells": [
  {
   "cell_type": "markdown",
   "metadata": {},
   "source": [
    "**Numerical Linear Algebra for Financial Engineering**\n",
    "\n",
    "**Homework 1**\n",
    "\n",
    "**Jose Ferreira**\n",
    "\n",
    "----------------\n",
    "**(1) Find the value of $x$ such that the matrix below has rank 3:**\n",
    "$$\n",
    "   \\begin{pmatrix} \n",
    "      x & 1 & 1 & 1 \\\\ \n",
    "      1 & x & 1 & 1 \\\\ \n",
    "      1 & 1 & x & 1 \\\\\n",
    "      1 & 1 & 1 & x \n",
    "   \\end{pmatrix}\n",
    "$$"
   ]
  },
  {
   "cell_type": "markdown",
   "metadata": {},
   "source": [
    "Let M be the matrix above. Calculate the determinant of M by applying row reducing operations until the matrix is upper triangular. \n",
    "For the rank to be 3 (or less), the determinant needs to be equal to zero.\n",
    "$$\n",
    "\\begin{align}\n",
    "det(M)=&\n",
    "   -\\begin{vmatrix} \n",
    "      1 & x & 1 & 1 \\\\ \n",
    "      x & 1 & 1 & 1 \\\\ \n",
    "      1 & 1 & x & 1 \\\\\n",
    "      1 & 1 & 1 & x \n",
    "   \\end{vmatrix} &[swap(r1,r2)]\\\\ \n",
    "=&\n",
    "   -\\begin{vmatrix} \n",
    "      1 & x & 1 & 1 \\\\ \n",
    "      0 & 1-x^2 & 1-x & 1-x \\\\ \n",
    "      1 & 1 & x & 1 \\\\\n",
    "      1 & 1 & 1 & x \n",
    "   \\end{vmatrix} &[r2 = r2 - x*r1]\\\\\n",
    "=&\n",
    "   -\\begin{vmatrix} \n",
    "      1 & x & 1 & 1 \\\\ \n",
    "      0 & 1-x^2 & 1-x & 1-x \\\\ \n",
    "      0 & 1-x & x-1 & 0 \\\\\n",
    "      1 & 1 & 1 & x \n",
    "   \\end{vmatrix} &[r3 = r3 - r1]\\\\\n",
    "=&\n",
    "   -\\begin{vmatrix} \n",
    "      1 & x & 1 & 1 \\\\ \n",
    "      0 & 1-x^2 & 1-x & 1-x \\\\ \n",
    "      0 & 1-x & x-1 & 0 \\\\\n",
    "      0 & 1-x & 0 & x-1 \n",
    "   \\end{vmatrix} &[r4 = r4 - r1]\\\\\n",
    "=&\n",
    "   -\\begin{vmatrix} \n",
    "      1 & x & 1 & 1 \\\\ \n",
    "      0 & 1-x^2 & 1-x & 1-x \\\\ \n",
    "      0 & 0 & \\frac{(x-1)(2+x)}{1+x} & \\frac{x-1}{1+x} \\\\\n",
    "      0 & 1-x & 0 & x-1 \n",
    "   \\end{vmatrix} &[r3 = r3 -\\frac{1-x}{1-x^2}*r2]\\\\   \n",
    "=&\n",
    "   -\\begin{vmatrix} \n",
    "      1 & x & 1 & 1 \\\\ \n",
    "      0 & 1-x^2 & 1-x & 1-x \\\\ \n",
    "      0 & 0 & \\frac{(x-1)(2+x)}{1+x} & \\frac{x-1}{1+x} \\\\\n",
    "      0 & 0 & \\frac{x-1}{1+x} & \\frac{(x-1)(2+x)}{1+x} \n",
    "   \\end{vmatrix} &[r4 = r4 -\\frac{1-x}{1-x^2}*r2]\\\\   \n",
    "=&\n",
    "   -\\begin{vmatrix} \n",
    "      1 & x & 1 & 1 \\\\ \n",
    "      0 & 1-x^2 & 1-x & 1-x \\\\ \n",
    "      0 & 0 & \\frac{(x-1)(2+x)}{1+x} & \\frac{x-1}{1+x} \\\\\n",
    "      0 & 0 & 0 & \\frac{(x-1)(3+x)}{2+x} \n",
    "   \\end{vmatrix} &[r4 = r4 -\\frac{1}{2+x}*r3]\\\\      \n",
    "=& -\\frac{(1-x^2)(x-1)(2+x)(x-1)(3+x)}{(1+x)(2+x)}\\\\\n",
    "=& (x-1)^3(3+x)\n",
    "\\end{align}\n",
    "$$"
   ]
  },
  {
   "cell_type": "markdown",
   "metadata": {},
   "source": [
    "Therefore, in order for the matrix to have a rank of 3 or less, $x$ must be $1$  or $-3$. If $x = 1$, the matrix is composed of only ones and its rank would be $1$. If $x = -3$:"
   ]
  },
  {
   "cell_type": "markdown",
   "metadata": {},
   "source": [
    "$$\n",
    "\\begin{align}\n",
    "M=&   \\begin{pmatrix} \n",
    "      -3 & 1 & 1 & 1 \\\\ \n",
    "      1 & -3 & 1 & 1 \\\\ \n",
    "      1 & 1 & -3 & 1 \\\\\n",
    "      1 & 1 & 1 & -3 \n",
    "   \\end{pmatrix}\\\\\n",
    "=&\n",
    "   \\begin{pmatrix} \n",
    "      1 & -3 & 1 & 1 \\\\ \n",
    "      -3 & 1 & 1 & 1 \\\\ \n",
    "      1 & 1 & -3 & 1 \\\\\n",
    "      1 & 1 & 1 & -3 \n",
    "   \\end{pmatrix} &[swap(r1,r2)]\\\\ \n",
    "=&\n",
    "   \\begin{pmatrix} \n",
    "      1 & -3 & 1 & 1 \\\\ \n",
    "      0 & -8 & 4 & 4 \\\\ \n",
    "      1 & 1 & -3 & 1 \\\\\n",
    "      1 & 1 & 1 & -3 \n",
    "   \\end{pmatrix} &[r2=r2+3r1]\\\\ \n",
    "=&\n",
    "   \\begin{pmatrix} \n",
    "      1 & -3 & 1 & 1 \\\\ \n",
    "      0 & -8 & 4 & 4 \\\\ \n",
    "      0 & 4 & -4 & 0 \\\\\n",
    "      1 & 1 & 1 & -3 \n",
    "   \\end{pmatrix} &[r3=r3-r1]\\\\ \n",
    "=&\n",
    "   \\begin{pmatrix} \n",
    "      1 & -3 & 1 & 1 \\\\ \n",
    "      0 & -8 & 4 & 4 \\\\ \n",
    "      0 & 4 & -4 & 0 \\\\\n",
    "      0 & 4 & 0 & -4 \n",
    "   \\end{pmatrix} &[r4=r4-r1]\\\\ \n",
    "=&\n",
    "   \\begin{pmatrix} \n",
    "      1 & -3 & 1 & 1 \\\\ \n",
    "      0 & -8 & 4 & 4 \\\\ \n",
    "      0 & 0 & -2 & 2 \\\\\n",
    "      0 & 4 & 0 & -4 \n",
    "   \\end{pmatrix} &[r3=r3+\\frac{1}{2}r2]\\\\\n",
    "=&\n",
    "   \\begin{pmatrix} \n",
    "      1 & -3 & 1 & 1 \\\\ \n",
    "      0 & -8 & 4 & 4 \\\\ \n",
    "      0 & 0 & -2 & 2 \\\\\n",
    "      0 & 0 & 2 & -2 \n",
    "   \\end{pmatrix} &[r4=r4+\\frac{1}{2}r2]\\\\   \n",
    "=&\n",
    "   \\begin{pmatrix} \n",
    "      1 & -3 & 1 & 1 \\\\ \n",
    "      0 & -8 & 4 & 4 \\\\ \n",
    "      0 & 0 & -2 & 2 \\\\\n",
    "      0 & 0 & 0 & 0 \n",
    "   \\end{pmatrix} &[r4=r4+r3]\\\\   \n",
    "\\iff& rank(M) = 3 \n",
    "\\end{align}\n",
    "$$"
   ]
  },
  {
   "cell_type": "markdown",
   "metadata": {},
   "source": [
    "-------------\n",
    "**(2) Show that the product of two symmetric matrices is not necessarily a symmetric matrix.\n",
    "Hint: Find 2x2 matrices $A$ and $B$ such that $A=A^t$, $B=B^t$, and $(AB)^t  \\neq AB$**"
   ]
  },
  {
   "cell_type": "markdown",
   "metadata": {},
   "source": [
    "By counterexample, let A and B be matrices of the form:\n",
    "    $$\n",
    "    A=\\begin{pmatrix} \n",
    "      a & a \\\\ \n",
    "      a & -a\n",
    "   \\end{pmatrix}\\\\\n",
    "   B=\\begin{pmatrix} \n",
    "      0 & a \\\\ \n",
    "      a & -a\n",
    "   \\end{pmatrix}\\\\\n",
    "    $$"
   ]
  },
  {
   "cell_type": "markdown",
   "metadata": {},
   "source": [
    "Both A and B are symmetric matrices but:\n",
    "$$\n",
    "AB=\\begin{pmatrix} \n",
    "      a^2 & 0 \\\\ \n",
    "      -a^2 & 2a^2\n",
    "   \\end{pmatrix}\\\\\n",
    "$$\n",
    "is not symmetric"
   ]
  },
  {
   "cell_type": "markdown",
   "metadata": {},
   "source": [
    "---------------\n",
    "**(3) Let $A$ be a square matrix of size n. Show that $AD=DA$ for any diagonal matrix D of size n if and only if $A$ is a diagonal matrix.**"
   ]
  },
  {
   "cell_type": "markdown",
   "metadata": {},
   "source": [
    "Let $D = diag(d_{k})_{k=1:n}$ and $A = col(a_{k})_{k=1:n}$, then $AD = col(a_{k}d_{k}) \\iff (AD)(j,k) = d_{k}A(j,k)$\n",
    "\n",
    "Also, if $A = row(r_{j})_{j=1:n}$, then $DA = row(d_{j}r_{j})_{j=1:n} \\iff (DA)(j,k) = d_{j}A(j,k)$\n",
    "\n",
    "Assuming all the diagonal entries in D are distinct: \n",
    "\n",
    "$$\n",
    "\\begin{align}\n",
    "AD = DA \n",
    "\\iff& d_{k}A(j,k) = d_{j}A(j,k)\\\\ \n",
    "\\iff& (d_{k} - d_{j})A(j,k) = 0, \\forall 1\\leq j \\neq k \\leq n\\\\\n",
    "\\iff& A(j,k) = 0, \\forall 1\\leq j \\neq k \\leq n\\\\\n",
    "\\iff& A = diag(a_{k})_{k=1:n}\n",
    "\\end{align}\n",
    "$$\n",
    "\n",
    "If the diagonal entries of D are not all distinct, some non-diagonal entries of A could be non-zero and the commutative property will also be preserved."
   ]
  },
  {
   "cell_type": "markdown",
   "metadata": {},
   "source": [
    "-------------\n",
    "**(4) Let $M_1$, $M_2$, $M_3$ and $M_4$ be square matrices of the same size such that $M_1M_2M_3M_4 = I$.\n",
    "Show that\n",
    "$$M_1M_2M_3M_4 = M_2M_3M_4M_1 = M_3M_4M_1M_2 = M_4M_1M_2M_3 = I$$**"
   ]
  },
  {
   "cell_type": "markdown",
   "metadata": {},
   "source": [
    "$$\n",
    "\\begin{align}\n",
    "M_1M_2M_3M_4 = I \\implies& M_1(M_2M_3M_4) = I\\\\\n",
    "\\implies& (M_2M_3M_4) = M_1^{-1}\\\\\n",
    "\\implies& (M_2M_3M_4)M_1 = M_2M_3M_4M_1 = M_1^{-1}M_1 = I\\\\\n",
    "\\end{align}\n",
    "$$\n",
    "\n",
    "$$\n",
    "\\begin{align}\n",
    "M_1M_2M_3M_4 = I \\implies& (M_1M_2)(M_3M_4) = I\\\\\n",
    "\\implies& (M_3M_4) = (M_1M_2)^{-1}\\\\\n",
    "\\implies& (M_3M_4)(M_1M_2) = M_3M_4M_1M_2 = (M_1M_2)^{-1}(M_1M_2) = I\\\\\n",
    "\\end{align}\n",
    "$$\n",
    "\n",
    "$$\n",
    "\\begin{align}\n",
    "M_1M_2M_3M_4 = I \\implies& (M_1M_2M_3)M_4 = I\\\\\n",
    "\\implies& M_4 = (M_1M_2M_3)^{-1}\\\\\n",
    "\\implies& (M_4)(M_1M_2M_3) = M_4M_1M_2M_3 = (M_1M_2M_3)^{-1}(M_1M_2M_3) = I\\\\\n",
    "\\end{align}\n",
    "$$"
   ]
  },
  {
   "cell_type": "markdown",
   "metadata": {},
   "source": [
    "---------\n",
    "**(5) If A is a nonsingular matrix, show that\n",
    "$$(I+A)^{-1} = I - (I+A^{-1})^{-1}$$**"
   ]
  },
  {
   "cell_type": "markdown",
   "metadata": {},
   "source": [
    "$$\n",
    "\\begin{align}\n",
    "(I+A)^{-1} = I - (I+A^{-1})^{-1}\\\\ \n",
    "\\implies& (I - (I+A^{-1})^{-1})(I+A) = I &\\text{[def. inverse matrix]}\\\\\n",
    "\\implies& I - (I+A^{-1})^{-1} + A - (I+A^{-1})^{-1}A = I &\\text{[distributive property]}\\\\\n",
    "\\implies& I - A[(I+A^{-1})^{-1}A^{-1} + I - (I+A^{-1})^{-1}] = I &\\text{[factor A]}\\\\\n",
    "\\implies& I - A[(I+A^{-1})^{-1}(I+A^{-1}) - I] = I &\\text{[factor } (I+A)^{-1} \\text{]} \\\\\n",
    "\\implies& I - A[I - I] = I &\\text{[simplify]} \\\\\n",
    "\\implies& I = I &\\text{[simplify]} \\\\\n",
    "\\implies& TRUE \\\\\n",
    "\\end{align}\n",
    "$$"
   ]
  },
  {
   "cell_type": "markdown",
   "metadata": {},
   "source": [
    "-------------\n",
    "**(6) Show that the $n \\times n$ matrix $A$ has rank 1 if and only if there exists an $n \\times 1$ nonzero vector $v$ such that $A=vv^t$** "
   ]
  },
  {
   "cell_type": "markdown",
   "metadata": {},
   "source": [
    "If $A=vv^t$, all rows are a linear combination of vector $v$ and, therefore, $rank(A) = 1$. Also, note that a vector has by definition a rank equal to 1, multiplying two vectors must result in a matrix of rank equal to 1. \n",
    "\n",
    "$$\n",
    "\\begin{align}\n",
    "A=vv^t =& (vv^t)(j,k) = v_{j}v^t_{k}, \\forall j =1:n, k=1:n\\\\\n",
    "\\implies& Ax = (v_{j}row(r_{j}))x, \\forall j =1:n\\\\\n",
    "\\implies& Ax = v_{j}(row(r_{j})x), \\forall j =1:n\\\\\n",
    "\\implies& \\text{All rows are linearly dependent}\\\\\n",
    "\\implies& rank(A) = 1\n",
    "\\end{align}\n",
    "$$\n",
    "\n",
    "If $rank(A) = 1$, there exists exactly one eigenvector $v$ such that $Av = \\lambda v$ and, assuming $v$ is a nonzero vector, the matrix can be expressed as $A = vv^t$ since any vector $w$ such that $A = vw^t$ (possible since rank(A) = 1) can be written as $w = \\lambda v$ if  $\\vert\\vert{v}\\vert\\vert=\\sqrt{\\lambda}$.      \n",
    "\n",
    "$$\n",
    "\\begin{align}\n",
    "rank(A) = 1\\\\\n",
    "\\implies& Au = kv, \\forall u \\in \\mathbb R^n \\\\\n",
    "\\implies& A = v(col(w_{k})), \\forall k =1:n\\\\\n",
    "\\implies& A = vw^t\\\\    \n",
    "\\implies& A = v_*(v_*^t), v_*=\\sqrt{\\lambda}v \\text{ since } Av = \\lambda v\\\\\n",
    "\\end{align}\n",
    "$$\n"
   ]
  },
  {
   "cell_type": "markdown",
   "metadata": {},
   "source": [
    "-------------\n",
    "**(7) Let $x$ and $y$ be column vectors of size $n$, and let $I$ be the identity matrix of size $n$. Show that the matrix $I - xy^t$ is nonsingular if and only if $y^tx \\neq 1$.**"
   ]
  },
  {
   "cell_type": "markdown",
   "metadata": {},
   "source": [
    "Let $A = (I-xy^t)$ and assume $y^tx \\neq 1$:\n",
    "\n",
    "$$\n",
    "\\begin{align}\n",
    "(I-xy^t)A^{-1} = I\\\\\n",
    "\\implies& A^{-1} - xy^tA^{-1} = I\\\\\n",
    "\\implies& y^tA^{-1} - y^txy^tA^{-1} = y^t &\\text{[multiply by $y^t$]}\\\\\n",
    "\\implies& (1 - y^tx)(y^tA^-1) = y^t\\\\\n",
    "\\implies& (1 - y^tx)(y^tA^-1) = y^t\\\\\n",
    "\\implies& A^-1 = I + \\frac{xy^t}{(1 - y^tx)}\\\\\n",
    "\\end{align}\n",
    "$$\n",
    "Since $y^tx \\neq 1$, the inverse of matrix A is well defined.  \n",
    "If $y^tx = 1$, the inverse does not exist.\n",
    "\n",
    "Furthermore, assuming $y^tx = 1$:\n",
    "$$\n",
    "\\begin{align}\n",
    "(I-xy^t)x =& x - xy^tx\\\\\n",
    "=& x - x(y^tx)\\\\\n",
    "=&0\\\\\n",
    "\\implies& \\text{The matrix is singular if $y^tx = 1$}\n",
    "\\end{align}\n",
    "$$\n",
    "\n",
    "Therefore, $I - xy^t$ is nonsingular $\\iff y^tx \\neq 1$  "
   ]
  },
  {
   "cell_type": "markdown",
   "metadata": {},
   "source": [
    "---------------\n",
    "**(8) The covariance matrix of five random variables is\n",
    "$$\n",
    "\\Sigma =\n",
    "\\begin{pmatrix} \n",
    "      1 & -0.525 & 1.375 & -0.075 & -0.75 \\\\ \n",
    "      -0.525 & 4 & 0.1875 & 0.1875 & -0.675 \\\\ \n",
    "      1.375 & 0.1875 & 12.25 & 0.4375 & -1.875 \\\\ \n",
    "      -0.075 & 0.1875 & 0.4375 & 6.25 & 0.3 \\\\ \n",
    "      -0.75 & -0.675 & -1.875 & 0.3 & 4.41\n",
    "   \\end{pmatrix}\\\\\n",
    "$$\n",
    "Find the correlation matrix of these random variables.** "
   ]
  },
  {
   "cell_type": "markdown",
   "metadata": {},
   "source": [
    "The correlation matrix $\\Omega$ is given by\n",
    "$$\\Omega = (D_{\\sigma})^{-1}\\Sigma(D_{\\sigma})^{-1}$$ \n",
    "where $D_{\\sigma}$ is the diagonal matrix with diagonal values equivalent to the standard deviations of each random variable $X_{i}$  \n",
    "In this case, \n",
    "$$\n",
    "\\begin{align}\n",
    "D_{\\sigma} =& \n",
    "\\begin{pmatrix} \n",
    "      \\sqrt{1} & 0 & 0 & 0 & 0 \\\\ \n",
    "      0 & \\sqrt{4} & 0 & 0 & 0 \\\\ \n",
    "      0 & 0 & \\sqrt{12.25} & 0 & 0 \\\\ \n",
    "      0 & 0 & 0 & \\sqrt{6.25} & 0 \\\\ \n",
    "      0 & 0 & 0 & 0 & \\sqrt{4.41}\n",
    "   \\end{pmatrix}\\\\\n",
    "=& \n",
    "\\begin{pmatrix} \n",
    "      1 & 0 & 0 & 0 & 0 \\\\ \n",
    "      0 & 2 & 0 & 0 & 0 \\\\ \n",
    "      0 & 0 & 3.5 & 0 & 0 \\\\ \n",
    "      0 & 0 & 0 & 2.5 & 0 \\\\ \n",
    "      0 & 0 & 0 & 0 & 2.1\n",
    "\\end{pmatrix}\\\\\n",
    "\\end{align}\n",
    "$$\n",
    "\n",
    "$$\n",
    "\\begin{align}\n",
    "(D_{\\sigma})^{-1} \n",
    "=& diag\\left(\\frac{1}{d_{k}}\\right)_{k=1:n}\\\\\n",
    "=& \n",
    "\\begin{pmatrix} \n",
    "      1 & 0 & 0 & 0 & 0 \\\\ \n",
    "      0 & \\frac{1}{2} & 0 & 0 & 0 \\\\ \n",
    "      0 & 0 & \\frac{2}{7} & 0 & 0 \\\\ \n",
    "      0 & 0 & 0 & \\frac{2}{5} & 0 \\\\ \n",
    "      0 & 0 & 0 & 0 & \\frac{10}{21}\n",
    "\\end{pmatrix}\\\\\n",
    "\\end{align}\n",
    "$$"
   ]
  },
  {
   "cell_type": "code",
   "execution_count": 4,
   "metadata": {},
   "outputs": [
    {
     "data": {
      "text/plain": [
       "5×5 Array{Float64,2}:\n",
       "  1.0       -0.2625      0.392857   -0.03       -0.357143 \n",
       " -0.2625     1.0         0.0267857   0.0375     -0.160714 \n",
       "  0.392857   0.0267857   1.0         0.05       -0.255102 \n",
       " -0.03       0.0375      0.05        1.0         0.0571429\n",
       " -0.357143  -0.160714   -0.255102    0.0571429   1.0      "
      ]
     },
     "execution_count": 4,
     "metadata": {},
     "output_type": "execute_result"
    }
   ],
   "source": [
    "sigma = [1 -0.525 1.375 -0.075 -0.75; \n",
    "         -0.525 4 0.1875 0.1875 -0.675;\n",
    "         1.375 0.1875 12.25 0.4375 -1.875;\n",
    "         -0.075 0.1875 0.4375 6.25 0.3;\n",
    "         -0.75 -0.675 -1.875 0.3 4.41]\n",
    "d_sigma_inverse = inv(Diagonal([sqrt(sigma[1,1]); \n",
    "                                sqrt(sigma[2,2]);\n",
    "                                sqrt(sigma[3,3]);\n",
    "                                sqrt(sigma[4,4]);\n",
    "                                sqrt(sigma[5,5])]))\n",
    "omega = d_sigma_inverse*sigma*d_sigma_inverse"
   ]
  },
  {
   "cell_type": "markdown",
   "metadata": {},
   "source": [
    "$$\n",
    "\\begin{align}\n",
    "\\Omega\n",
    "=& \n",
    "\\begin{pmatrix} \n",
    "1.0 & -0.2625 & 0.392857 & -0.03 & -0.357143 \\\\ \n",
    "-0.2625 & 1.0 & 0.0267857 & 0.0375 & -0.160714 \\\\\n",
    "0.392857 & 0.0267857 & 1.0 & 0.05 & -0.255102 \\\\\n",
    "-0.03 & 0.0375 & 0.05 & 1.0 & 0.0571429 \\\\\n",
    "-0.357143 & -0.160714 & -0.255102 & 0.0571429 & 1.0   \n",
    "\\end{pmatrix}\\\\\n",
    "\\end{align}\n",
    "$$\n"
   ]
  },
  {
   "cell_type": "markdown",
   "metadata": {},
   "source": [
    "----------\n",
    "**(9) The correlation matrix of five random variables is\n",
    "$$\n",
    "\\begin{align}\n",
    "\\Omega\n",
    "=& \n",
    "\\begin{pmatrix} \n",
    "1 & -0.25 & 0.15 & -0.05 & -0.3 \\\\ \n",
    "-0.25 & 1 & -0.1 & -0.25 & 0.1\\\\\n",
    "0.15 & -0.1 & 1 & 0.2 & 0.05 \\\\\n",
    "-0.05 & -0.25 & 0.2 & 1 & 0.1 \\\\\n",
    "-0.3 & 0.1 & 0.05 & 0.1 & 1   \n",
    "\\end{pmatrix}\\\\\n",
    "\\end{align}\n",
    "$$\n",
    "(i) Compute the covariance matrix of these random variables if their standard deviations are 0.1, 0.2, 0.5, 1 and 2, in this order.**"
   ]
  },
  {
   "cell_type": "markdown",
   "metadata": {},
   "source": [
    "The covariance matrix, $\\Sigma$ is given by the expression $$\\Sigma = D_{\\sigma}\\Omega D_{\\sigma}$$ where \n",
    "$$\n",
    "\\begin{align}\n",
    "D_{\\sigma} =& diag\\left(\\sigma_{k}\\right)_{k=1:n}\\\\\n",
    "=&\n",
    "\\begin{pmatrix} \n",
    "      0.1 & 0 & 0 & 0 & 0 \\\\ \n",
    "      0 & 0.2 & 0 & 0 & 0 \\\\ \n",
    "      0 & 0 & 0.5 & 0 & 0 \\\\ \n",
    "      0 & 0 & 0 & 1 & 0 \\\\ \n",
    "      0 & 0 & 0 & 0 & 2\n",
    "\\end{pmatrix}\\\\\n",
    "\\end{align}\n",
    "$$ \n"
   ]
  },
  {
   "cell_type": "code",
   "execution_count": 8,
   "metadata": {},
   "outputs": [
    {
     "data": {
      "text/plain": [
       "5×5 Array{Float64,2}:\n",
       "  0.01    -0.005   0.0075  -0.005  -0.06\n",
       " -0.005    0.04   -0.01    -0.05    0.04\n",
       "  0.0075  -0.01    0.25     0.1     0.05\n",
       " -0.005   -0.05    0.1      1.0     0.2 \n",
       " -0.06     0.04    0.05     0.2     4.0 "
      ]
     },
     "execution_count": 8,
     "metadata": {},
     "output_type": "execute_result"
    }
   ],
   "source": [
    "omega = [1 -0.25 0.15 -0.05 -0.3; \n",
    "         -0.25 1 -0.1 -0.25 0.1;\n",
    "         0.15 -0.1 1 0.2 0.05;\n",
    "         -0.05 -0.25 0.2 1 0.1;\n",
    "         -0.3 0.1 0.05 0.1 1]\n",
    "d_sigma = Diagonal([0.1; 0.2; 0.5; 1; 2])\n",
    "sigma = d_sigma*omega*d_sigma"
   ]
  },
  {
   "cell_type": "markdown",
   "metadata": {},
   "source": [
    "$$\n",
    "\\Sigma =\n",
    "\\begin{pmatrix} \n",
    "      0.01 & -0.005 & 0.0075 & -0.005 & -0.06 \\\\ \n",
    "      -0.005 & 0.04 & -0.01 & -0.05 & 0.04 \\\\ \n",
    "      0.0075 & -0.01 & 0.25 & 0.1 & 0.05 \\\\ \n",
    "      -0.005 & -0.05 & 0.1 & 1 & 0.2 \\\\ \n",
    "      -0.06 & 0.04 & 0.05 & 0.2 & 4\n",
    "   \\end{pmatrix}\\\\\n",
    "$$"
   ]
  },
  {
   "cell_type": "markdown",
   "metadata": {},
   "source": [
    "**(ii) Compute the covariance matrix of these random variables if their standard deviations are 2, 1, 0.5, 0.2, and 0.1, in this order.**"
   ]
  },
  {
   "cell_type": "code",
   "execution_count": 9,
   "metadata": {},
   "outputs": [
    {
     "data": {
      "text/plain": [
       "5×5 Array{Float64,2}:\n",
       "  4.0   -0.5    0.15    -0.02   -0.06  \n",
       " -0.5    1.0   -0.05    -0.05    0.01  \n",
       "  0.15  -0.05   0.25     0.02    0.0025\n",
       " -0.02  -0.05   0.02     0.04    0.002 \n",
       " -0.06   0.01   0.0025   0.002   0.01  "
      ]
     },
     "execution_count": 9,
     "metadata": {},
     "output_type": "execute_result"
    }
   ],
   "source": [
    "omega = [1 -0.25 0.15 -0.05 -0.3; \n",
    "         -0.25 1 -0.1 -0.25 0.1;\n",
    "         0.15 -0.1 1 0.2 0.05;\n",
    "         -0.05 -0.25 0.2 1 0.1;\n",
    "         -0.3 0.1 0.05 0.1 1]\n",
    "d_sigma = Diagonal([2; 1; 0.5; 0.2; 0.1])\n",
    "sigma = d_sigma*omega*d_sigma"
   ]
  },
  {
   "cell_type": "markdown",
   "metadata": {},
   "source": [
    "$$\n",
    "\\Sigma =\n",
    "\\begin{pmatrix} \n",
    "      4 & -0.5 & 0.15 & -0.02 & -0.06 \\\\ \n",
    "      -0.5 & 1 & -0.05 & -0.05 & 0.01 \\\\ \n",
    "      0.15 & -0.05 & 0.25 & 0.2 & 0.0025 \\\\ \n",
    "      -0.02 & -0.05 & 0.02 & 0.04 & 0.002 \\\\ \n",
    "      -0.06 & 0.01 & 0.0025 & 0.002 & 0.01\n",
    "   \\end{pmatrix}\\\\\n",
    "$$"
   ]
  },
  {
   "cell_type": "markdown",
   "metadata": {},
   "source": [
    "------------\n",
    "**(10) The file *indeces-close-jan3-jan31-2017.xslx* contains the January 3, 2017 - January 31, 2017 end of day values of Dow Jones, Nasdaq, and S&P 500.**\n",
    "\n",
    "**(i) Compute the log daily returns of the three indices over the given time period.** "
   ]
  },
  {
   "cell_type": "markdown",
   "metadata": {},
   "source": [
    "**(ii) Compute the sample covariance matrix of the log daily returns of the three indices over the given time period.**"
   ]
  },
  {
   "cell_type": "markdown",
   "metadata": {},
   "source": [
    "**(iii) Compute the percentage daily returns of the three indices over the given time period.**"
   ]
  },
  {
   "cell_type": "markdown",
   "metadata": {},
   "source": [
    "**(iv) Compute the sample covariance matrix of the percentage daily returns of the three indices over the given time period.**"
   ]
  },
  {
   "cell_type": "markdown",
   "metadata": {},
   "source": [
    "--------------\n",
    "**(11) The file *indices-july2016.csv* contains the January 2016 - July 2016 end of day values of nine major US indices.**\n",
    "\n",
    "**(i) Compute the sample covariance matrix of the daily percentage returns of the indices, and the corresponding sample correlation matrix. Compute the sample covariance and correlation matrices for daily log returns, and compare them with the corresponding matrices for daily percentage returns.**"
   ]
  },
  {
   "cell_type": "markdown",
   "metadata": {},
   "source": [
    "**(ii) Compute the sample covariance matrix of the weekly percentage returns of the indices, and the corresponding sample correlation matrix. Compute the sample covariance and correlation matrices for weekly log returns, and compare them with the corresponding matrices for weekly percentage returns.**"
   ]
  },
  {
   "cell_type": "markdown",
   "metadata": {},
   "source": [
    "**(iii) Compute the sample covariance matrix of the monthly percentage returns of the indices, and the corresponding sample correlation matrix. Compute the sample covariance and correlation matrices for monthly log returns, and compare them with the corresponding matrices for monthly percentage returns.**"
   ]
  },
  {
   "cell_type": "markdown",
   "metadata": {},
   "source": [
    "**(iv) Comment on the differences between the sample covariance and correlation matrices for daily, weekly and monthly returns.** "
   ]
  },
  {
   "cell_type": "markdown",
   "metadata": {},
   "source": [
    "--------------------\n",
    "**(12) Consider a market made of cash and an asset with spot price 40. The continuously compounded risk-free rate is 2%. In four months, the price of the stock will be either 45 or 35.**\n",
    "\n",
    "**(i) What is the payoff matrix M in three months?**"
   ]
  },
  {
   "cell_type": "markdown",
   "metadata": {},
   "source": [
    "The future value of cash is $e^{0.02\\times 0.25} = 1.00501252$ and\n",
    "\n",
    "$$\n",
    "M=\\begin{pmatrix} \n",
    "      1.00501252 & 1.00501252 \\\\ \n",
    "      45 & 35\n",
    "   \\end{pmatrix}\\\\\n",
    "$$"
   ]
  },
  {
   "cell_type": "markdown",
   "metadata": {},
   "source": [
    "**(ii) Is the market complete, i.e., is the matrix M nonsingular?**"
   ]
  },
  {
   "cell_type": "markdown",
   "metadata": {},
   "source": [
    "$det(M) =  1.00501252\\times 35 - 1.00501252\\times 45 = 35.1754382 - 45.2255634 = -10.0501252 \\neq 0$\n",
    "\n",
    "$\\implies$ the matrix M is nonsingular and the market is complete."
   ]
  },
  {
   "cell_type": "markdown",
   "metadata": {},
   "source": [
    "**(iii) How do you replicate a four months at-the-money call option on this asset, using the cash and the underlying asset?**"
   ]
  },
  {
   "cell_type": "code",
   "execution_count": null,
   "metadata": {},
   "outputs": [],
   "source": []
  }
 ],
 "metadata": {
  "kernelspec": {
   "display_name": "Julia 0.6.2",
   "language": "julia",
   "name": "julia-0.6"
  },
  "language_info": {
   "file_extension": ".jl",
   "mimetype": "application/julia",
   "name": "julia",
   "version": "0.6.2"
  }
 },
 "nbformat": 4,
 "nbformat_minor": 2
}
